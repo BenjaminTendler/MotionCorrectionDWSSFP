{
 "cells": [
  {
   "cell_type": "code",
   "execution_count": null,
   "metadata": {},
   "outputs": [],
   "source": [
    "##\n",
    "#Load Packages\n",
    "import numpy as np\n",
    "import matplotlib.pyplot as plt\n",
    "from numba import jit\n",
    "import sys"
   ]
  },
  {
   "cell_type": "code",
   "execution_count": null,
   "metadata": {},
   "outputs": [],
   "source": [
    "##\n",
    "#Define Path to Code Database\n",
    "DirPath = '/Your/Path/To/Code/'\n",
    "\n",
    "##\n",
    "#Define Output Path\n",
    "OutputPath = '/Your/Path/To/Output/'"
   ]
  },
  {
   "cell_type": "code",
   "execution_count": null,
   "metadata": {},
   "outputs": [],
   "source": [
    "##\n",
    "#Load Functions\n",
    "sys.path.append(''.join([DirPath,'bin']))\n",
    "from EPGMotion import *\n",
    "from ParameterOptionsSimulation import *"
   ]
  },
  {
   "cell_type": "code",
   "execution_count": null,
   "metadata": {},
   "outputs": [],
   "source": [
    "##\n",
    "#Read Parameters\n",
    "opt = ParameterOptionsSimulation()"
   ]
  },
  {
   "cell_type": "code",
   "execution_count": null,
   "metadata": {},
   "outputs": [],
   "source": [
    "##\n",
    "#Define Motion Profile \n",
    "\n",
    "##\n",
    "#Impulse Motion on the 100th TR (1.5 mm/s)\n",
    "MotionScaleImpulse=np.zeros(opt[\"nTR\"].astype(np.int32)[0])\n",
    "MotionScaleImpulse[99]=1.5"
   ]
  },
  {
   "cell_type": "code",
   "execution_count": null,
   "metadata": {},
   "outputs": [],
   "source": [
    "##\n",
    "#Estimate Signal (No Motion)\n",
    "Signal=EPGMotion(opt.copy())\n",
    "\n",
    "##\n",
    "#Estimate Signal (Impulse Motion)\n",
    "SignalImpulse=EPGMotion(opt, MotionScaleImpulse)"
   ]
  },
  {
   "cell_type": "code",
   "execution_count": null,
   "metadata": {},
   "outputs": [],
   "source": [
    "##\n",
    "#Plot \n",
    "fig, (ax1, ax2) = plt.subplots(2, 1)\n",
    "#Define x-axis\n",
    "Time = range(Signal.shape[0])*opt[\"TR\"]/1E3\n",
    "#Plot Magnitude data\n",
    "ax1.plot(Time,np.abs(SignalImpulse),linewidth=2)\n",
    "ax1.plot(Time, np.abs(Signal),linestyle='--',linewidth=2)\n",
    "#Plot Phase data (multiply by -i to characterise the motion-free phase as 0)\n",
    "ax2.plot(Time,np.angle(SignalImpulse*-1j),linewidth=2)\n",
    "ax2.plot(Time,np.angle(Signal*-1j),linestyle='--',linewidth=2)\n",
    "#Label moment of motion\n",
    "ax1.scatter(Time[99],np.abs(Signal[99]),c='k',zorder=3)\n",
    "ax2.scatter(Time[99],np.angle(Signal[99]*-1j),c='k',zorder=3)\n",
    "#Label TRs (Define Height as a 25th of y-axis)\n",
    "Span = np.max(np.abs(SignalImpulse))/25\n",
    "TRloc = ax1.vlines(Time,0,0+Span,colors='k',linewidth=0.2)\n",
    "ax2.vlines(Time,-np.pi,-np.pi+(2*np.pi)/25,colors='k',linewidth=0.2)\n",
    "#Add labels etc\n",
    "fig.subplots_adjust(hspace=0.3)\n",
    "ax2.set_ylim([-np.pi,np.pi])\n",
    "ax1.set_ylim(bottom=0)\n",
    "ax1.set_ylabel('Amplitude (a.u.)')\n",
    "ax2.set_ylabel('Angle (rad.)')\n",
    "ax2.set_xlabel('Time (s)')\n",
    "ax2.set_yticks([-np.pi,0, np.pi],[r'-$\\pi$',0, r'$\\pi$'])\n",
    "legend=ax1.legend(['No Motion', 'Motion (Impulse)','Motion Instance','TR Locations'],loc='upper right',fontsize=7)\n",
    "legend.legend_handles[3].set_marker(\"|\")\n",
    "legend.legend_handles[3].set_linestyle(\"\")\n",
    "ax1.set_title('Magnitude')\n",
    "ax2.set_title('Phase')\n",
    "ax1.text(-0.15, 1.05, '(a)', transform=ax1.transAxes, size=15)\n",
    "ax2.text(-0.15, 1.05, '(b)', transform=ax2.transAxes, size=15)"
   ]
  },
  {
   "cell_type": "code",
   "execution_count": null,
   "metadata": {},
   "outputs": [],
   "source": [
    "##\n",
    "#Save Figure\n",
    "fig.savefig(''.join([OutputPath,'Figure2.png']),dpi=300,format='png',bbox_inches='tight')"
   ]
  }
 ],
 "metadata": {
  "kernelspec": {
   "display_name": "testenv4",
   "language": "python",
   "name": "python3"
  },
  "language_info": {
   "codemirror_mode": {
    "name": "ipython",
    "version": 3
   },
   "file_extension": ".py",
   "mimetype": "text/x-python",
   "name": "python",
   "nbconvert_exporter": "python",
   "pygments_lexer": "ipython3",
   "version": "3.13.2"
  }
 },
 "nbformat": 4,
 "nbformat_minor": 2
}
