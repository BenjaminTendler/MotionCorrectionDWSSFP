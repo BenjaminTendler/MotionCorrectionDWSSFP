{
 "cells": [
  {
   "cell_type": "code",
   "execution_count": null,
   "metadata": {},
   "outputs": [],
   "source": [
    "##\n",
    "#Load Packages\n",
    "import numpy as np\n",
    "import matplotlib.pyplot as plt\n",
    "from numba import jit\n",
    "import sys"
   ]
  },
  {
   "cell_type": "code",
   "execution_count": null,
   "metadata": {},
   "outputs": [],
   "source": [
    "##\n",
    "#Define Path to Code Database\n",
    "DirPath = '/Your/Path/To/Code/'\n",
    "\n",
    "##\n",
    "#Define Output Path\n",
    "OutputPath = '/Your/Path/To/Output/'"
   ]
  },
  {
   "cell_type": "code",
   "execution_count": null,
   "metadata": {},
   "outputs": [],
   "source": [
    "##\n",
    "#Load Functions\n",
    "sys.path.append(''.join([DirPath,'bin']))\n",
    "from EPGMotion import *\n",
    "from ParameterOptionsSimulation import *"
   ]
  },
  {
   "cell_type": "code",
   "execution_count": null,
   "metadata": {},
   "outputs": [],
   "source": [
    "##\n",
    "#Read Parameters\n",
    "opt = ParameterOptionsSimulation()\n",
    "\n",
    "##\n",
    "#Set number of TRs equal to 500 (consistent with the lengthiest Monte Carlo Simulations)\n",
    "opt['nTR'] = np.asarray([500], dtype='f8')"
   ]
  },
  {
   "cell_type": "code",
   "execution_count": null,
   "metadata": {},
   "outputs": [],
   "source": [
    "##\n",
    "#Load Monte Carlo Simulation data (Convert to Complex)\n",
    "SignalCardiacMC = np.loadtxt(''.join([DirPath,'/MonteCarlo/CardiacMagnitudeMC.csv']),delimiter=',')*np.exp(1j*np.loadtxt(''.join([DirPath,'/MonteCarlo/CardiacPhaseMC.csv']),delimiter=','))\n",
    "SignalTranslationRotationMC = np.loadtxt(''.join([DirPath,'/MonteCarlo/TranslationRotationMagnitudeMC.csv']),delimiter=',')*np.exp(1j*np.loadtxt(''.join([DirPath,'/MonteCarlo/TranslationRotationPhaseMC.csv']),delimiter=','))"
   ]
  },
  {
   "cell_type": "code",
   "execution_count": null,
   "metadata": {},
   "outputs": [],
   "source": [
    "##\n",
    "#Load Motion Profiles (Cardiac & Translation/Rotation) - Identical to those used for the MC simulations (every 100th timepoint)\n",
    "MotionScaleCardiac = np.loadtxt(''.join([DirPath,'/MonteCarlo/MotionProfileCardiac.csv']),delimiter=',')\n",
    "MotionScaleTranslationRotation = np.loadtxt(''.join([DirPath,'/MonteCarlo/MotionProfileTranslationRotation.csv']),delimiter=',')"
   ]
  },
  {
   "cell_type": "code",
   "execution_count": null,
   "metadata": {},
   "outputs": [],
   "source": [
    "##\n",
    "#Estimate Signal (Cardiac)\n",
    "SignalCardiac=EPGMotion(opt.copy(),MotionScaleCardiac)\n",
    "#Estimate Signal (Translation/Rotation)\n",
    "SignalTranslatioRotation=EPGMotion(opt.copy(), MotionScaleTranslationRotation)"
   ]
  },
  {
   "cell_type": "code",
   "execution_count": null,
   "metadata": {},
   "outputs": [],
   "source": [
    "##\n",
    "#Plot \n",
    "fig, axs = plt.subplots(2, 2)\n",
    "fig.set_size_inches(16,8)\n",
    "#Define x-axis\n",
    "Time = range(SignalCardiac.shape[0])*opt[\"TR\"]/1E3\n",
    "#Plot Magnitude data (Translation/Rotation) - Plot every second point of MC simulation to manage density\n",
    "axs[0,0].plot(Time, np.abs(SignalTranslatioRotation),linewidth=2)\n",
    "axs[0,0].scatter(Time[::2],np.abs(SignalTranslationRotationMC[::2]),s=10,c='#ff7f0e',marker='x',zorder=2)\n",
    "#Plot Phase data (Translation/Rotation) (multiply by -1 to have a consistent phase profile with the MC simulations)\n",
    "axs[1,0].plot(Time,np.angle(SignalTranslatioRotation*-1),linewidth=2)\n",
    "axs[1,0].scatter(Time[::2],np.angle(SignalTranslationRotationMC[::2]),s=10,c='#ff7f0e', marker='x',zorder=2)\n",
    "#Plot Magnitude data (Cardiac) - Only plot the first 200 TRs\n",
    "axs[0,1].plot(Time[0:200], np.abs(SignalCardiac[0:200]),linewidth=2)\n",
    "axs[0,1].scatter(Time[0:200],np.abs(SignalCardiacMC),s=10,c='#ff7f0e', marker='x',zorder=2)\n",
    "#Plot Phase data (Cardiac) (multiply by -1 to have a consistent phase profile with the MC simulations)\n",
    "axs[1,1].plot(Time[0:200],np.angle(SignalCardiac[0:200]*-1),linewidth=2)\n",
    "axs[1,1].scatter(Time[0:200],np.angle(SignalCardiacMC),s=10,c='#ff7f0e',marker='x',zorder=2)\n",
    "#Add labels etc\n",
    "fig.subplots_adjust(hspace=0.3)\n",
    "axs[1,0].set_ylim([-np.pi,np.pi])\n",
    "axs[1,1].set_ylim([-np.pi,np.pi])\n",
    "axs[0,0].set_ylabel('Amplitude (a.u.)')\n",
    "axs[0,1].set_ylabel('Amplitude (a.u.)')\n",
    "axs[1,0].set_ylabel('Phase (rad.)')\n",
    "axs[1,1].set_ylabel('Phase (rad.)')\n",
    "axs[0,0].set_xlabel('Time (s)')\n",
    "axs[0,1].set_xlabel('Time (s)')\n",
    "axs[1,0].set_xlabel('Time (s)')\n",
    "axs[1,1].set_xlabel('Time (s)')\n",
    "axs[1,0].set_yticks([-np.pi,0, np.pi],[r'-$\\pi$',0, r'$\\pi$'])\n",
    "axs[1,1].set_yticks([-np.pi,0, np.pi],[r'-$\\pi$',0, r'$\\pi$'])\n",
    "axs[0,1].legend(['EPG', 'Monte Carlo'])\n",
    "axs[0,0].set_title('Magnitude')\n",
    "axs[0,1].set_title('Magnitude')\n",
    "axs[1,0].set_title('Phase')\n",
    "axs[1,1].set_title('Phase')\n",
    "axs[0,0].text(-0.15, 1.05, '(a) Translation & Rotation', transform=axs[0,0].transAxes, size=15)\n",
    "axs[0,1].text(-0.15, 1.05, '(b) Cardiac Pulsatility', transform=axs[0,1].transAxes, size=15)"
   ]
  },
  {
   "cell_type": "code",
   "execution_count": null,
   "metadata": {},
   "outputs": [],
   "source": [
    "##\n",
    "##Save Figure\n",
    "fig.savefig(''.join([OutputPath,'Figure3.png']),dpi=300,format='png',bbox_inches='tight')"
   ]
  }
 ],
 "metadata": {
  "kernelspec": {
   "display_name": "testenv4",
   "language": "python",
   "name": "python3"
  },
  "language_info": {
   "codemirror_mode": {
    "name": "ipython",
    "version": 3
   },
   "file_extension": ".py",
   "mimetype": "text/x-python",
   "name": "python",
   "nbconvert_exporter": "python",
   "pygments_lexer": "ipython3",
   "version": "3.13.2"
  }
 },
 "nbformat": 4,
 "nbformat_minor": 2
}
