{
 "cells": [
  {
   "cell_type": "code",
   "execution_count": null,
   "metadata": {},
   "outputs": [],
   "source": [
    "##\n",
    "#Load Packages\n",
    "import numpy as np\n",
    "import matplotlib.pyplot as plt\n",
    "from numba import jit\n",
    "import sys\n",
    "from scipy.optimize import curve_fit"
   ]
  },
  {
   "cell_type": "code",
   "execution_count": null,
   "metadata": {},
   "outputs": [],
   "source": [
    "##\n",
    "#Define Path to Code Database\n",
    "DirPath = '/Your/Path/To/Code/'\n",
    "\n",
    "##\n",
    "#Define Output Path\n",
    "OutputPath = '/Your/Path/To/Output/'"
   ]
  },
  {
   "cell_type": "code",
   "execution_count": null,
   "metadata": {},
   "outputs": [],
   "source": [
    "##\n",
    "#Load Functions\n",
    "sys.path.append(''.join([DirPath,'bin']))\n",
    "from EPGMotion import *\n",
    "from MotionSimulation import *\n",
    "from EPGForwardMotionModel import *\n",
    "from Jacobian_MotionCorrection import *\n",
    "from ParameterOptionsSimulation import *"
   ]
  },
  {
   "cell_type": "code",
   "execution_count": null,
   "metadata": {},
   "outputs": [],
   "source": [
    "##\n",
    "#Read Parameters\n",
    "opt = ParameterOptionsSimulation()"
   ]
  },
  {
   "cell_type": "code",
   "execution_count": null,
   "metadata": {},
   "outputs": [],
   "source": [
    "##\n",
    "#Conventional EPG simulates a maximum k-value pathway equal to the number of TRs. This piece of code identifies where increasing the k-value leads to no meaningful change in the signal, with subsequent thresholding to accelerate modelling\n",
    "opt[\"kOrder\"] = kOrder(opt.copy())"
   ]
  },
  {
   "cell_type": "code",
   "execution_count": null,
   "metadata": {},
   "outputs": [],
   "source": [
    "##\n",
    "#Define Motion Operators - Translation Velocity (mm/s), Rotation Velocity (deg/s), and Maximum Cardiac Velocity (mm/s) along x,y & z-axes\n",
    "Trans= np.array([0, 0, 0])\n",
    "Rot = np.array([0, 0, 0])\n",
    "Card = np.array([0, 0, 0])\n",
    "\n",
    "##\n",
    "#Define Voxel Dimensions \n",
    "VoxDims = np.array([1,1,1])"
   ]
  },
  {
   "cell_type": "code",
   "execution_count": null,
   "metadata": {},
   "outputs": [],
   "source": [
    "##\n",
    "#Estimate different V(t) operators for different maximum amplitudes of the cardiac pulsatility profile\n",
    "\n",
    "##\n",
    "#Define Maximum velocity\n",
    "MaxVel = np.linspace(0, 1.5, num=6)\n",
    "\n",
    "##\n",
    "#Initialise Array\n",
    "V = np.zeros((int(opt['nTR']),MaxVel.shape[0]))\n",
    "Signal = np.zeros((int(opt['nTR']),MaxVel.shape[0]),dtype = 'c8')\n",
    "\n",
    "##\n",
    "#Forward Simulate Velocity & Signal Profiles \n",
    "for idx, k in np.ndenumerate(MaxVel):\n",
    "    Card = np.array([0, 0, k])\n",
    "    V[:,idx] = np.squeeze(MotionOperator(opt.copy(),Trans,Rot,Card,opt['Mask'][:,np.newaxis,np.newaxis],VoxDims))[:,np.newaxis]\n",
    "    Signal[:,idx]=EPGMotion(opt, np.squeeze(V[:,idx]))[:,np.newaxis]"
   ]
  },
  {
   "cell_type": "code",
   "execution_count": null,
   "metadata": {},
   "outputs": [],
   "source": [
    "##\n",
    "#Add Noise\n",
    "\n",
    "##\n",
    "#Define SNR Levels\n",
    "SNR = [10,20,50,np.inf]\n",
    "\n",
    "##\n",
    "#Estimate Noise Standard Deviation\n",
    "NoiseSD = np.zeros((Signal.shape[1],len(SNR)))\n",
    "for k in range(NoiseSD.shape[0]):\n",
    "    for l in range(NoiseSD.shape[1]):\n",
    "        NoiseSD[k,l] = np.mean(abs(Signal[int(opt[\"nDummy\"][0]):,k]))/SNR[l]\n",
    "\n",
    "##\n",
    "#Number of Repeats\n",
    "nRepeats = 10\n",
    "\n",
    "##\n",
    "#Initialise SignalNoise Repeats\n",
    "SignalNoise = np.zeros((*Signal.shape,len(SNR),nRepeats),dtype = 'c8')\n",
    "\n",
    "##\n",
    "#Add Noise\n",
    "for k in range(SignalNoise.shape[1]):\n",
    "    for l in range(SignalNoise.shape[2]):\n",
    "        for m in range(SignalNoise.shape[3]):\n",
    "            SignalNoise[:,k,l,m] = (np.real(Signal[:,k]) + np.random.normal(0, NoiseSD[k,l], Signal.shape[0])) + 1j*(np.imag(Signal[:,k]) + np.random.normal(0, NoiseSD[k,l], Signal.shape[0]))"
   ]
  },
  {
   "cell_type": "code",
   "execution_count": null,
   "metadata": {},
   "outputs": [],
   "source": [
    "##\n",
    "#Define lower and upper parameter bounds (fix S0 equal to 1, define MotionParameters between -5 and 5 mm/s))\n",
    "low = [1E-6, 1, -20*np.pi, *np.ones((int(opt[\"nTR\"][0])-int(opt[\"SteadyStateTR\"][0])))*-5]\n",
    "high = [10E-3, 1+ + np.finfo('f8').eps, 20*np.pi, *np.ones((int(opt[\"nTR\"][0])-int(opt[\"SteadyStateTR\"][0])))*5]"
   ]
  },
  {
   "cell_type": "code",
   "execution_count": null,
   "metadata": {},
   "outputs": [],
   "source": [
    "##\n",
    "#Fitting without Motion Estimation\n",
    "\n",
    "##\n",
    "#Initialise fitting parameters (D, S0, Phi)\n",
    "par_init = [0.5E-4, 1, np.pi/2]\n",
    "\n",
    "##\n",
    "#Initialise Array\n",
    "poptnoMotion = np.zeros((3,*SignalNoise.shape[1:]))\n",
    "\n",
    "##\n",
    "#Perform Fitting\n",
    "for k in range(SignalNoise.shape[1]):\n",
    "    for l in range(SignalNoise.shape[2]):\n",
    "        for m in range(SignalNoise.shape[3]):\n",
    "            #Input Data (1D array: Real & Imaginary Components - Fitting to After Dummy Region)\n",
    "            Data = np.concatenate((np.real(SignalNoise[int(opt[\"nDummy\"][0]):,k,l,m]).reshape(SignalNoise[int(opt[\"nDummy\"][0]):,k,l,m].shape[0]),np.imag(SignalNoise[int(opt[\"nDummy\"][0]):,k,l,m]).reshape(SignalNoise[int(opt[\"nDummy\"][0]):,k,l,m].shape[0])))\n",
    "            #Perform Fitting\n",
    "            poptnoMotion[:,k,l,m], pcov, infodict, mesg, ier  = curve_fit(lambda x, *theta: EPGForwardModelFitting(x, theta, opt.copy()), 1, Data, p0=par_init, method='trf',absolute_sigma=False,bounds=(low[0:3],high[0:3]),verbose=1,jac=lambda x, *theta: EPGForwardModelFittingJacobian(x,theta,opt.copy()), x_scale='jac',full_output=True,tr_solver='exact',max_nfev=1E5,ftol=1e-5, xtol=1e-5, gtol=1e-5)\n"
   ]
  },
  {
   "cell_type": "code",
   "execution_count": null,
   "metadata": {},
   "outputs": [],
   "source": [
    "##\n",
    "#Fitting with Motion Estimation\n",
    "\n",
    "##\n",
    "#Initialise fitting parameters (D, S0, Phi, MotionVector)\n",
    "par_init = [0.5E-4, 1, np.pi/2, *np.zeros(int(opt[\"nTR\"][0])-int(opt[\"SteadyStateTR\"][0]))]\n",
    "\n",
    "##\n",
    "#Initialise Array\n",
    "poptMotion = np.zeros((len(low),*SignalNoise.shape[1:]))\n",
    "\n",
    "##\n",
    "#Perform Fitting\n",
    "for k in range(SignalNoise.shape[1]):\n",
    "    for l in range(SignalNoise.shape[2]):\n",
    "        for m in range(SignalNoise.shape[3]):\n",
    "            #Input Data (1D array: Real & Imaginary Components - Fitting to After Dummy Region)\n",
    "            Data = np.concatenate((np.real(SignalNoise[int(opt[\"nDummy\"][0]):,k,l,m]).reshape(SignalNoise[int(opt[\"nDummy\"][0]):,k,l,m].shape[0]),np.imag(SignalNoise[int(opt[\"nDummy\"][0]):,k,l,m]).reshape(SignalNoise[int(opt[\"nDummy\"][0]):,k,l,m].shape[0])))\n",
    "            #Perform Fitting\n",
    "            poptMotion[:,k,l,m], pcov, infodict, mesg, ier  = curve_fit(lambda x, *theta: EPGForwardMotionModelFitting(x, theta, opt.copy()), 1, Data, p0=par_init, method='trf',absolute_sigma=False,bounds=(low,high),verbose=1,jac=lambda x, *theta: EPGForwardMotionModelFittingJacobian(x,theta,opt.copy()), x_scale='jac',full_output=True,tr_solver='exact',max_nfev=1E5,ftol=1e-5, xtol=1e-5, gtol=1e-5)"
   ]
  },
  {
   "cell_type": "code",
   "execution_count": null,
   "metadata": {},
   "outputs": [],
   "source": [
    "##\n",
    "#Reconstruct Signal & Motion Profile\n",
    "\n",
    "##\n",
    "#Create Reconstructed Motion Array\n",
    "VRecon = np.zeros_like(SignalNoise, dtype = 'f8')\n",
    "VRecon[-(int(opt[\"nTR\"][0])-int(opt[\"SteadyStateTR\"][0])):,...] = poptMotion[3:,...]\n",
    "\n",
    "##\n",
    "#Initialise Signal Array\n",
    "SignalRecon = np.zeros_like(SignalNoise, dtype = 'c8')\n",
    "\n",
    "##\n",
    "#Reconstruct Signal\n",
    "for k in range(SignalNoise.shape[1]):\n",
    "    for l in range(SignalNoise.shape[2]):\n",
    "        for m in range(SignalNoise.shape[3]):\n",
    "            ##\n",
    "            #Declare outputs from fitting to the options file \n",
    "            optRecon = opt.copy()\n",
    "            optRecon['D'] = np.asarray([poptMotion[0,k,l,m]], dtype='f8')   \n",
    "            optRecon['phi'] = np.asarray([poptMotion[2,k,l,m]], dtype='f8') \n",
    "\n",
    "            ##\n",
    "            #Reconstruct signal\n",
    "            SignalRecon[:,k,l,m] = EPGMotion(optRecon.copy(), VRecon[:,k,l,m])"
   ]
  },
  {
   "cell_type": "code",
   "execution_count": null,
   "metadata": {},
   "outputs": [],
   "source": [
    "##\n",
    "#Plot Figure\n",
    "fig, axs = plt.subplots(1, 2)\n",
    "fig.set_size_inches(8,8)\n",
    "\n",
    "##\n",
    "#No Motion Correction\n",
    "axs[0].imshow(np.mean(poptnoMotion[0,:,:,:]*10**3,axis=-1),clim=[0,4])\n",
    "\n",
    "##\n",
    "#Motion Correction\n",
    "im = axs[1].imshow(np.mean(poptMotion[0,:,:,:]*10**3,axis=-1),clim=[0,4]); plt.colorbar(im, ax = axs, fraction=0.0325, pad=0.025, label = r'D ($\\cdot 10^{-3}$ mm$^2$/s)')\n",
    "\n",
    "##\n",
    "#Labels & Axes\n",
    "axs[0].set_xticks([0,1,2,3])\n",
    "axs[0].set_xticklabels((10,20,50,r'$\\infty$'))\n",
    "axs[0].set_yticks([0,1,2,3,4,5])\n",
    "axs[0].set_yticklabels((np.round(MaxVel,1)))\n",
    "axs[0].set_xlabel('SNR')\n",
    "axs[0].set_ylabel('Max. Pulsatile Velocity (mm/s)')\n",
    "axs[0].set_title('No Motion Correction')\n",
    "axs[1].set_xticks([0,1,2,3])\n",
    "axs[1].set_xticklabels((10,20,50,r'$\\infty$'))\n",
    "axs[1].set_yticks([0,1,2,3,4,5])\n",
    "axs[1].set_yticklabels((np.round(MaxVel,1)))\n",
    "axs[1].set_xlabel('SNR')\n",
    "axs[1].set_title('No Motion Correction')\n",
    "axs[1].set_title('Motion Corrected (EPG-motion)')\n",
    "\n",
    "##\n",
    "#Add Highighted Cell\n",
    "rect = plt.Rectangle((2.5, -0.53), 1,1, fill=False,linewidth=0.5,color=\"k\")\n",
    "axs[0].add_patch(rect)\n",
    "rect = plt.Rectangle((2.5, -0.53), 1,1, fill=False,linewidth=0.5,color=\"k\")\n",
    "axs[1].add_patch(rect)"
   ]
  },
  {
   "cell_type": "code",
   "execution_count": null,
   "metadata": {},
   "outputs": [],
   "source": [
    "##\n",
    "#Save Figure\n",
    "fig.savefig(''.join([OutputPath,'Figure6.png']),dpi=300,format='png',bbox_inches='tight')"
   ]
  }
 ],
 "metadata": {
  "kernelspec": {
   "display_name": "testenv4",
   "language": "python",
   "name": "python3"
  },
  "language_info": {
   "codemirror_mode": {
    "name": "ipython",
    "version": 3
   },
   "file_extension": ".py",
   "mimetype": "text/x-python",
   "name": "python",
   "nbconvert_exporter": "python",
   "pygments_lexer": "ipython3",
   "version": "3.13.2"
  }
 },
 "nbformat": 4,
 "nbformat_minor": 2
}
