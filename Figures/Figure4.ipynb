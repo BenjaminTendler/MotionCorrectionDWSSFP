{
 "cells": [
  {
   "cell_type": "code",
   "execution_count": null,
   "metadata": {},
   "outputs": [],
   "source": [
    "##\n",
    "#Load Packages\n",
    "import numpy as np\n",
    "import matplotlib.pyplot as plt\n",
    "from numba import jit\n",
    "import sys\n",
    "import nibabel as nib"
   ]
  },
  {
   "cell_type": "code",
   "execution_count": null,
   "metadata": {},
   "outputs": [],
   "source": [
    "##\n",
    "#Define Path to Code Database\n",
    "DirPath = '/Your/Path/To/Code/'\n",
    "\n",
    "##\n",
    "#Define Output Path\n",
    "OutputPath = '/Your/Path/To/Output/'\n",
    "\n",
    "##\n",
    "#Define Path to HCP1065 MD Map (in FSL this is equivalent to $FSLDIR/data/standard/FSL_HCP1065_MD_1mm.nii.gz)\n",
    "MDPath = '/usr/local/fsl/data/standard/FSL_HCP1065_MD_1mm.nii.gz'"
   ]
  },
  {
   "cell_type": "code",
   "execution_count": null,
   "metadata": {},
   "outputs": [],
   "source": [
    "##\n",
    "#Load Functions\n",
    "sys.path.append(''.join([DirPath,'bin']))\n",
    "from EPGMotion import *\n",
    "from ParameterOptionsSimulation import *\n",
    "from MotionSimulation import *"
   ]
  },
  {
   "cell_type": "code",
   "execution_count": null,
   "metadata": {},
   "outputs": [],
   "source": [
    "##\n",
    "#Read Parameters\n",
    "opt = ParameterOptionsSimulation()"
   ]
  },
  {
   "cell_type": "code",
   "execution_count": null,
   "metadata": {},
   "outputs": [],
   "source": [
    "##\n",
    "#Conventional EPG simulates a maximum k-value pathway equal to the number of TRs. This piece of code identifies where increasing the k-value leads to no meaningful change in the signal, with subsequent thresholding to accelerate modelling\n",
    "opt[\"kOrder\"] = kOrder(opt.copy())"
   ]
  },
  {
   "cell_type": "code",
   "execution_count": null,
   "metadata": {},
   "outputs": [],
   "source": [
    "##\n",
    "#Establish Data\n",
    "\n",
    "##\n",
    "#Define slice to sample \n",
    "slice = 80\n",
    "\n",
    "#Load diffusion coefficient map (HCP1065 MD map) & Affine and take single slice\n",
    "D = np.atleast_3d(nib.load(MDPath).get_fdata())[:,:,slice][:,:,np.newaxis]\n",
    "Affine = nib.load(MDPath).affine\n",
    "\n",
    "##\n",
    "#Get Voxel Dimensions (in mm)\n",
    "VoxDims = nib.affines.voxel_sizes(Affine)\n",
    "\n",
    "##\n",
    "#Create Brain Mask \n",
    "Mask = D > 0\n",
    "\n",
    "##\n",
    "#Obtain mask indices\n",
    "MaskIdx = np.where(Mask==1)\n",
    "\n",
    "##\n",
    "#Vectorise Diffusion & Mask map for dictionary to accelerate EPG fitting\n",
    "opt['D'] = np.asarray([*D[Mask==1]], dtype='f8')\n",
    "opt['Mask'] = np.asarray([*Mask[Mask==1]], dtype='f8')"
   ]
  },
  {
   "cell_type": "code",
   "execution_count": null,
   "metadata": {},
   "outputs": [],
   "source": [
    "##\n",
    "#Define T1 and T2 values as equal across the simulation\n",
    "opt['T1'] = opt['Mask']*opt['T1']\n",
    "opt['T2'] = opt['Mask']*opt['T2']\n",
    "\n",
    "##\n",
    "#Define B1 as constant across the image (i.e. no B1 inhomogeneity)\n",
    "opt['B1'] = np.asarray([*Mask[Mask==1]], dtype='f8') "
   ]
  },
  {
   "cell_type": "code",
   "execution_count": null,
   "metadata": {},
   "outputs": [],
   "source": [
    "##\n",
    "#Define Motion Operators for each simulation - Translation Operator (mm/s), Rotation Operator (rad/s) & Cardiac Operator (vector defines maximum beat velocity in mm/s)\n",
    "\n",
    "##\n",
    "#Define Consistent Motion per TR \n",
    "RandMotion=False\n",
    "#Define Heart Rate for Cardiac Operator (beats/min)\n",
    "HeartRate = 50\n",
    "\n",
    "##\n",
    "#Define Operators (Translation Example)\n",
    "TranslationExample_Trans= np.array([0,0,0.2])\n",
    "TranslationExample_Rot = np.array([0,0,0])\n",
    "TranslationExample_Card = np.array([0,0,0])\n",
    "\n",
    "##\n",
    "#Define Operators (Rotation Example)\n",
    "RotationExample_Trans= np.array([0,0,0])\n",
    "RotationExample_Rot = np.array([0.2/180*np.pi,0,0])\n",
    "RotationExample_Card = np.array([0,0,0])\n",
    "\n",
    "##\n",
    "#Define Operators (Cardiac Example)\n",
    "CardiacExample_Trans= np.array([0,0,0])\n",
    "CardiacExample_Rot = np.array([0,0,0])\n",
    "CardiacExample_Card = np.array([0,0,1.5])\n"
   ]
  },
  {
   "cell_type": "code",
   "execution_count": null,
   "metadata": {},
   "outputs": [],
   "source": [
    "##\n",
    "#Simulation - No Motion\n",
    "\n",
    "##\n",
    "#Define Output array\n",
    "F = np.zeros((*Mask.shape,opt['nTR'].astype(np.int32)[0]), dtype='c8')\n",
    "\n",
    "##\n",
    "#Peform forward simulation\n",
    "F[MaskIdx[0],MaskIdx[1],MaskIdx[2],:] = EPGMotionWholeImage(opt)"
   ]
  },
  {
   "cell_type": "code",
   "execution_count": null,
   "metadata": {},
   "outputs": [],
   "source": [
    "##\n",
    "#Simulation - Translational Motion\n",
    "\n",
    "##\n",
    "#Initialise Output array\n",
    "FTrans = np.zeros_like(F)\n",
    "\n",
    "##\n",
    "#Estimate Velocity Timeseries Profile\n",
    "V_Trans = MotionOperator(opt.copy(),TranslationExample_Trans,TranslationExample_Rot,TranslationExample_Card,Mask,VoxDims)\n",
    "\n",
    "##\n",
    "#Peform Forward Simulation\n",
    "FTrans[MaskIdx[0],MaskIdx[1],MaskIdx[2],:] = EPGMotionWholeImage(opt,V_Trans[Mask==1,:])"
   ]
  },
  {
   "cell_type": "code",
   "execution_count": null,
   "metadata": {},
   "outputs": [],
   "source": [
    "##\n",
    "#Simulation - Rotational Motion\n",
    "\n",
    "##\n",
    "#Define Output array\n",
    "FRot = np.zeros_like(F)\n",
    "\n",
    "##\n",
    "#Estimate Velocity Timeseries Profile\n",
    "V_Rot = MotionOperator(opt.copy(),RotationExample_Trans,RotationExample_Rot,RotationExample_Card,Mask,VoxDims)\n",
    "\n",
    "##\n",
    "#Peform Forward Simulation\n",
    "FRot[MaskIdx[0],MaskIdx[1],MaskIdx[2],:] = EPGMotionWholeImage(opt,V_Rot[Mask==1,:])"
   ]
  },
  {
   "cell_type": "code",
   "execution_count": null,
   "metadata": {},
   "outputs": [],
   "source": [
    "##\n",
    "#Simulation - Cardiac Motion\n",
    "\n",
    "##\n",
    "#Define Output array\n",
    "FCardiac = np.zeros_like(F)\n",
    "\n",
    "##\n",
    "#Estimate Velocity Timeseries Profile\n",
    "V_Cardiac = MotionOperator(opt.copy(),CardiacExample_Trans,CardiacExample_Rot,CardiacExample_Card,Mask,VoxDims,HeartRate=HeartRate)\n",
    "\n",
    "##\n",
    "#Peform Forward Simulation\n",
    "FCardiac[MaskIdx[0],MaskIdx[1],MaskIdx[2],:] = EPGMotionWholeImage(opt,V_Cardiac[Mask==1,:])"
   ]
  },
  {
   "cell_type": "code",
   "execution_count": null,
   "metadata": {},
   "outputs": [],
   "source": [
    "##\n",
    "#Generate Noisy Composite Image Incorporating Cardiac Pulsatility\n",
    "\n",
    "##\n",
    "#Add Noise to Cardiac Data (SNR = 20)\n",
    "FCardiacNoise = FCardiac + np.random.normal(0, np.max(np.abs(FCardiac[...,int(opt['SteadyStateTR'][0]):]))/20,FCardiac.shape)\n",
    "\n",
    "##\n",
    "#Define No. k-Space Lines Per TR\n",
    "nLines = 3\n",
    "dataBin = np.arange(0, FCardiacNoise.shape[0], nLines).tolist()\n",
    "\n",
    "##\n",
    "#Identify Which TRs to Sample (Ignore Systole & Only Sample After Signal Reaches Steady-State)\n",
    "Idx = np.array(V_Cardiac.shape) // 2\n",
    "ExampleSignal = V_Cardiac[Idx[0],Idx[1],Idx[2],:]\n",
    "Samples=np.where(np.diff(ExampleSignal)==0)[0]\n",
    "Samples=Samples[Samples>opt['SteadyStateTR']]\n",
    "\n",
    "##\n",
    "#Obtain Fourier Transform of Cardiac Image\n",
    "F_FFT = np.fft.fftshift(np.fft.fftn(np.fft.ifftshift(FCardiacNoise, axes=(0, 1, 2)), axes=(0, 1, 2), norm = 'ortho'), axes=(0, 1, 2))\n",
    "\n",
    "##\n",
    "#Initialise Fourier Output Array\n",
    "F_FFTComposite = np.zeros((F.shape[:-1]), dtype='c8')\n",
    "\n",
    "##\n",
    "#Perform Resampling\n",
    "for idx, k in enumerate(range(0, FCardiacNoise.shape[0], nLines)):\n",
    "    F_FFTComposite[k:min(k+nLines,FCardiacNoise.shape[0]), ...,] = F_FFT[k:min(k+nLines,FCardiacNoise.shape[0]), ...,Samples[idx]]\n",
    "\n",
    "##\n",
    "#Convert to Image Space\n",
    "FComposite = np.fft.fftshift(np.fft.ifftn(np.fft.ifftshift(F_FFTComposite), norm = 'ortho'))\n"
   ]
  },
  {
   "cell_type": "code",
   "execution_count": null,
   "metadata": {},
   "outputs": [],
   "source": [
    "##\n",
    "#Create Figure\n",
    "fig, axs = plt.subplots(2, 5)\n",
    "fig.set_size_inches(20,8)\n",
    "#Magnitude Images\n",
    "axs[0,0].imshow(np.abs(np.rot90(F[15:-20,15:-15,0,150]))*np.rot90(Mask[15:-20,15:-15,0])+np.rot90((Mask[15:-20,15:-15,0] == False)*1),clim=[0,0.03],cmap='gray'); axs[0,0].axis('off')\n",
    "axs[0,1].imshow(np.abs(np.rot90(FTrans[15:-20,15:-15,0,150]))*np.rot90(Mask[15:-20,15:-15:,0])+np.rot90((Mask[15:-20,15:-15,0] == False)*1),clim=[0,0.03],cmap='gray'); axs[0,1].axis('off')\n",
    "axs[0,2].imshow(np.abs(np.rot90(FRot[15:-20,15:-15,0,150]))*np.rot90(Mask[15:-20,15:-15,0])+np.rot90((Mask[15:-20,15:-15,0] == False)*1),clim=[0,0.03],cmap='gray'); axs[0,2].axis('off')\n",
    "axs[0,3].imshow(np.abs(np.rot90(FCardiac[15:-20,15:-15,0,150]))*np.rot90(Mask[15:-20,15:-15,0])+np.rot90((Mask[15:-20,15:-15,0] == False)*1),clim=[0,0.03],cmap='gray'); axs[0,3].axis('off')\n",
    "im = axs[0,4].imshow(np.abs(np.rot90(FComposite[15:-20,15:-15,0]))*np.rot90(Mask[15:-20,15:-15,0])+np.rot90((Mask[15:-20,15:-15,0] == False)*1),clim=[0,0.03],cmap='gray'); axs[0,4].axis('off'); plt.colorbar(im,fraction=0.1, pad=0.04, ticks=[0, 0.03],label = 'Magnitude (a.u.)')\n",
    "#Phase Images\n",
    "axs[1,0].imshow(np.angle(np.rot90(F[15:-20,15:-15,0,150])*-1)*np.rot90(Mask[15:-20,15:-15,0])+np.rot90((Mask[15:-20,15:-15,0] == False)*np.pi),clim=[-np.pi,np.pi],cmap='gray'); axs[1,0].axis('off')\n",
    "axs[1,1].imshow(np.angle(np.rot90(FTrans[15:-20,15:-15,0,150])*-1)*np.rot90(Mask[15:-20,15:-15,0])+np.rot90((Mask[15:-20,15:-15,0] == False)*np.pi),clim=[-np.pi,np.pi],cmap='gray'); axs[1,1].axis('off')\n",
    "axs[1,2].imshow(np.angle(np.rot90(FRot[15:-20,15:-15,0,150])*-1)*np.rot90(Mask[15:-20,15:-15,0])+np.rot90((Mask[15:-20,15:-15,0] == False)*np.pi),clim=[-np.pi,np.pi],cmap='gray'); axs[1,2].axis('off')\n",
    "axs[1,3].imshow(np.angle(np.rot90(FCardiac[15:-20,15:-15,0,150])*-1)*np.rot90(Mask[15:-20,15:-15,0])+np.rot90((Mask[15:-20,15:-15,0] == False)*np.pi),clim=[-np.pi,np.pi],cmap='gray');  axs[1,3].axis('off')\n",
    "im =  axs[1,4].imshow(np.angle(np.rot90(FComposite[15:-20,15:-15,0])*-1)*np.rot90(Mask[15:-20,15:-15,0])+np.rot90((Mask[15:-20,15:-15,0] == False)*np.pi),clim=[-np.pi,np.pi],cmap='gray'); axs[1,4].axis('off'); cbar = plt.colorbar(im,fraction=0.1, pad=0.04, ticks=[-np.pi, 0, np.pi], label = 'Phase (rad.)');  cbar.set_ticklabels([r'-$\\pi$',0, r'$\\pi$'])\n",
    "#Additional Text and Whitespace Edits\n",
    "axs[0,0].text(-0, 1.05, '(a) No Motion', transform=axs[0,0].transAxes, size=15)\n",
    "axs[0,1].text(-0, 1.05, '(b) Translation', transform=axs[0,1].transAxes, size=15)\n",
    "axs[0,2].text(-0, 1.05, '(c) Rotation', transform=axs[0,2].transAxes, size=15)\n",
    "axs[0,3].text(-0, 1.05, '(d) Pulsatility', transform=axs[0,3].transAxes, size=15)\n",
    "axs[0,4].text(-0, 1.05, '(e) Multi Shot + Noise', transform=axs[0,4].transAxes, size=15)\n",
    "fig.subplots_adjust(hspace=0.05,wspace=-0.5)"
   ]
  },
  {
   "cell_type": "code",
   "execution_count": null,
   "metadata": {},
   "outputs": [],
   "source": [
    "##\n",
    "#Save Figure\n",
    "fig.savefig(''.join([OutputPath,'Figure4.png']),dpi=300,format='png',bbox_inches='tight')"
   ]
  }
 ],
 "metadata": {
  "kernelspec": {
   "display_name": "testenv4",
   "language": "python",
   "name": "python3"
  },
  "language_info": {
   "codemirror_mode": {
    "name": "ipython",
    "version": 3
   },
   "file_extension": ".py",
   "mimetype": "text/x-python",
   "name": "python",
   "nbconvert_exporter": "python",
   "pygments_lexer": "ipython3",
   "version": "3.13.2"
  }
 },
 "nbformat": 4,
 "nbformat_minor": 2
}
