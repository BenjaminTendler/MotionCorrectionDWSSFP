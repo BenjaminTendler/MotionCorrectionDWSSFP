{
 "cells": [
  {
   "cell_type": "code",
   "execution_count": 1,
   "metadata": {},
   "outputs": [],
   "source": [
    "##\n",
    "#Load Packages\n",
    "import numpy as np\n",
    "import matplotlib.pyplot as plt\n",
    "from numba import jit\n",
    "import sys\n",
    "import nibabel as nib"
   ]
  },
  {
   "cell_type": "code",
   "execution_count": null,
   "metadata": {},
   "outputs": [],
   "source": [
    "##\n",
    "#Define Path to Code Database\n",
    "DirPath = '/Your/Path/To/Code/'\n",
    "\n",
    "##\n",
    "#Define Output Path\n",
    "OutputPath = '/Your/Path/To/Output/'\n",
    "\n",
    "#Define Path to HCP1065 MD Map (in FSL this is equivalent to $FSLDIR/data/standard/FSL_HCP1065_MD_1mm.nii.gz)\n",
    "MDPath = '/usr/local/fsl/data/standard/FSL_HCP1065_MD_1mm.nii.gz'"
   ]
  },
  {
   "cell_type": "code",
   "execution_count": 3,
   "metadata": {},
   "outputs": [],
   "source": [
    "##\n",
    "#Load functions\n",
    "sys.path.append(''.join([DirPath,'bin']))\n",
    "from EPGMotion import *\n",
    "from ParameterOptionsSimulation import *\n",
    "from MotionSimulation import *"
   ]
  },
  {
   "cell_type": "code",
   "execution_count": 4,
   "metadata": {},
   "outputs": [],
   "source": [
    "##\n",
    "#Read Parameters\n",
    "opt = ParameterOptionsSimulation()"
   ]
  },
  {
   "cell_type": "code",
   "execution_count": 5,
   "metadata": {},
   "outputs": [],
   "source": [
    "##\n",
    "#Conventional EPG simulates a maximum k-value pathway equal to the number of TRs. This piece of code identifies where increasing the k-value leads to no meaningful change in the signal, with subsequent thresholding to accelerate modelling\n",
    "opt[\"kOrder\"] = kOrder(opt)"
   ]
  },
  {
   "cell_type": "code",
   "execution_count": 6,
   "metadata": {},
   "outputs": [],
   "source": [
    "##\n",
    "#Load data\n",
    "\n",
    "##\n",
    "#Define slice of MD map to sample (you can process an entire brain, but a single slice is faster).\n",
    "slice = 80\n",
    "\n",
    "#Load diffusion coefficient map (HCP1065 MD map) & Affine\n",
    "Dataset = np.atleast_3d(nib.load(MDPath).get_fdata())\n",
    "Affine = nib.load(MDPath).affine\n",
    "\n",
    "##\n",
    "#Pull slice\n",
    "D = Dataset[:,:,slice][:,:,np.newaxis]\n",
    "\n",
    "##\n",
    "#Define location of the slice relative to the centre of the brain (here we assume the brain centre is in the middle of the FOV)\n",
    "Offset = round(Dataset.shape[-1]/2)-slice\n",
    "\n",
    "##\n",
    "#Get Voxel Dimensions (in mm)\n",
    "VoxDims = nib.affines.voxel_sizes(Affine)\n",
    "\n",
    "##\n",
    "#Create Brain Mask \n",
    "Mask = D > 0\n",
    "\n",
    "##\n",
    "#Obtain mask indices\n",
    "MaskIdx = np.where(Mask==1)\n",
    "\n",
    "##\n",
    "#Vectorise Diffusion & Mask map for dictionary to accelerate EPG fitting\n",
    "opt['D'] = np.asarray([*D[Mask==1]], dtype='f8')\n",
    "opt['Mask'] = np.asarray([*Mask[Mask==1]], dtype='f8')"
   ]
  },
  {
   "cell_type": "code",
   "execution_count": 7,
   "metadata": {},
   "outputs": [],
   "source": [
    "##\n",
    "\n",
    "##\n",
    "#Define T1 and T2 values as equal across the simulation\n",
    "opt['T1'] = opt['Mask']*opt['T1']\n",
    "opt['T2'] = opt['Mask']*opt['T2']\n",
    "\n",
    "##\n",
    "#Define B1 as constant across the image (i.e. no B1 inhomogeneity)\n",
    "opt['B1'] = np.asarray([*Mask[Mask==1]], dtype='f8') "
   ]
  },
  {
   "cell_type": "code",
   "execution_count": 8,
   "metadata": {},
   "outputs": [],
   "source": [
    "##\n",
    "#Define Motion Operators for each simulation - Translation Operator (mm/s), Rotation Operator (rad/s) & Cardiac Operator (vector defines maximum beat velocity in mm/s)\n",
    "\n",
    "##\n",
    "#Define consistent motion per TR \n",
    "RandMotion = False\n",
    "#Define Heart Rate for Cardiac Operator (beats/min)\n",
    "HeartRate = 50\n",
    "\n",
    "##\n",
    "#Define Operators\n",
    "Translation= np.array([0,0,0])\n",
    "Rotation = np.array([0,0,0])\n",
    "Cardiac = np.array([0,0,0.4])"
   ]
  },
  {
   "cell_type": "code",
   "execution_count": 9,
   "metadata": {},
   "outputs": [],
   "source": [
    "##\n",
    "#Simulation - No Motion\n",
    "\n",
    "##\n",
    "#Initialise Output Array\n",
    "F = np.zeros((*Mask.shape,opt['nTR'].astype(np.int32)[0]), dtype='c8')\n",
    "\n",
    "##\n",
    "#Perform Forward Simulation\n",
    "F[MaskIdx[0],MaskIdx[1],MaskIdx[2],:] = EPGMotionWholeImage(opt)\n",
    "\n",
    "##\n",
    "#Save Data\n",
    "nib.save(nib.Nifti1Image(np.abs(F)*Mask[:,:,:,np.newaxis],Affine),''.join([OutputPath, 'Magnitude_noMotion.nii.gz']))\n",
    "nib.save(nib.Nifti1Image(np.angle(F*-1)*Mask[:,:,:,np.newaxis],Affine),''.join([OutputPath, 'Phase_noMotion.nii.gz']))\n",
    "nib.save(nib.Nifti1Image(F*0,Affine),''.join([OutputPath, 'V_noMotion.nii.gz']))"
   ]
  },
  {
   "cell_type": "code",
   "execution_count": 10,
   "metadata": {},
   "outputs": [],
   "source": [
    "##\n",
    "#Simulation - Motion\n",
    "\n",
    "##\n",
    "#Initialise Output Array\n",
    "FMotion = np.zeros((*Mask.shape,opt['nTR'].astype(np.int32)[0]), dtype='c8')\n",
    "\n",
    "##\n",
    "#Establish Velocity Timeseries Profile\n",
    "V_Motion = MotionOperator(opt,Translation,Rotation,Cardiac,Mask,VoxDims,HeartRate=HeartRate,offset=Offset)\n",
    "\n",
    "##\n",
    "#Peform Forward Simulation\n",
    "FMotion[MaskIdx[0],MaskIdx[1],MaskIdx[2],:] = EPGMotionWholeImage(opt,V_Motion[Mask==1,:])\n",
    "\n",
    "##\n",
    "#Save Data\n",
    "nib.save(nib.Nifti1Image(np.abs(FMotion)*Mask[:,:,:,np.newaxis],Affine),''.join([OutputPath, 'Magnitude.nii.gz']))\n",
    "nib.save(nib.Nifti1Image(np.angle(FMotion*-1)*Mask[:,:,:,np.newaxis],Affine),''.join([OutputPath, '/Phase.nii.gz']))\n",
    "nib.save(nib.Nifti1Image(V_Motion*Mask[:,:,:,np.newaxis],Affine),''.join([OutputPath, 'V.nii.gz']))"
   ]
  }
 ],
 "metadata": {
  "kernelspec": {
   "display_name": "testenv4",
   "language": "python",
   "name": "python3"
  },
  "language_info": {
   "codemirror_mode": {
    "name": "ipython",
    "version": 3
   },
   "file_extension": ".py",
   "mimetype": "text/x-python",
   "name": "python",
   "nbconvert_exporter": "python",
   "pygments_lexer": "ipython3",
   "version": "3.13.2"
  }
 },
 "nbformat": 4,
 "nbformat_minor": 2
}
