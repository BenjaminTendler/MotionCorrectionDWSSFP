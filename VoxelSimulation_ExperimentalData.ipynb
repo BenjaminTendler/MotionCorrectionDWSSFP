{
 "cells": [
  {
   "cell_type": "code",
   "execution_count": null,
   "metadata": {},
   "outputs": [],
   "source": [
    "##\n",
    "#Load Packages\n",
    "import numpy as np\n",
    "import matplotlib.pyplot as plt\n",
    "from numba import jit\n",
    "import sys\n",
    "from scipy.optimize import curve_fit"
   ]
  },
  {
   "cell_type": "code",
   "execution_count": null,
   "metadata": {},
   "outputs": [],
   "source": [
    "##\n",
    "#Define Path to Code database\n",
    "DirPath = '/Your/Path/To/Code/'"
   ]
  },
  {
   "cell_type": "code",
   "execution_count": null,
   "metadata": {},
   "outputs": [],
   "source": [
    "##\n",
    "#Load functions\n",
    "sys.path.append(''.join([DirPath,'bin']))\n",
    "from EPGMotion import *\n",
    "from MotionSimulation import *\n",
    "from EPGForwardMotionModel import *\n",
    "from Jacobian_MotionCorrection import *\n",
    "from ParameterOptionsExperimental import *"
   ]
  },
  {
   "cell_type": "code",
   "execution_count": null,
   "metadata": {},
   "outputs": [],
   "source": [
    "##\n",
    "#Choose Direction ('LR', 'AP', 'SI')\n",
    "Dir = 'AP'\n",
    "\n",
    "##\n",
    "#Choose Region ('Thalamus', 'Callosum' or 'CSF')\n",
    "Region = 'Thalamus'\n",
    "\n",
    "##\n",
    "#Define Precision (Smaller number leads to more accurate fitting, but is slower)\n",
    "Precision = 1E-4"
   ]
  },
  {
   "cell_type": "code",
   "execution_count": null,
   "metadata": {},
   "outputs": [],
   "source": [
    "##\n",
    "#Read Parameters\n",
    "opt=ParameterOptionsExperimental()"
   ]
  },
  {
   "cell_type": "code",
   "execution_count": null,
   "metadata": {},
   "outputs": [],
   "source": [
    "##\n",
    "#Conventional EPG simulates a maximum k-value pathway equal to the number of TRs. This piece of code identifies where increasing the k-value leads to no meaningful change in the signal, with subsequent thresholding to accelerate modelling\n",
    "opt[\"kOrder\"] = kOrder(opt.copy())"
   ]
  },
  {
   "cell_type": "code",
   "execution_count": null,
   "metadata": {},
   "outputs": [],
   "source": [
    "##\n",
    "#Load DW-SSFP Timeseries Data\n",
    "Magnitude = np.genfromtxt(''.join([DirPath,'/Data/Magnitude_',Region,'_',Dir,'.csv']), delimiter=\",\")\n",
    "Phase = np.genfromtxt(''.join([DirPath,'/Data/Phase_',Region,'_',Dir,'.csv']), delimiter=\",\")"
   ]
  },
  {
   "cell_type": "code",
   "execution_count": null,
   "metadata": {},
   "outputs": [],
   "source": [
    "##\n",
    "#Convert data to complex and take transpose\n",
    "Comp = np.transpose(Magnitude*np.exp(1j*Phase))"
   ]
  },
  {
   "cell_type": "code",
   "execution_count": null,
   "metadata": {},
   "outputs": [],
   "source": [
    "##\n",
    "#Define lower and upper parameter bounds (fix S0 equal to 1, define MotionParameters between -5 and 5 mm/s))\n",
    "low = [1E-6, 0, -20*np.pi, -20*np.pi, *np.ones((int(opt[\"nTR\"])-int(opt[\"SteadyStateTR\"])))*-5, *np.ones((int(opt[\"nTR\"])-int(opt[\"SteadyStateTR\"])))*-5]\n",
    "high = [10E-3, 1000, 20*np.pi, 20*np.pi, *np.ones((int(opt[\"nTR\"])-int(opt[\"SteadyStateTR\"])))*5, *np.ones((int(opt[\"nTR\"])-int(opt[\"SteadyStateTR\"])))*5]"
   ]
  },
  {
   "cell_type": "code",
   "execution_count": null,
   "metadata": {},
   "outputs": [],
   "source": [
    "##\n",
    "#Fitting without Motion Information\n",
    "\n",
    "##\n",
    "#Initialise fitting parameters (D, S0, Phi)\n",
    "par_init = [0.5E-4, 1, np.pi/2, np.pi/2]\n",
    "\n",
    "##\n",
    "#Initialise Array\n",
    "poptnoMotion = np.zeros((4,*Comp.shape[1:]))\n",
    "\n",
    "##\n",
    "#Define Input Data (1D array: Real & Imaginary Components - Fitting to After Dummy Region)\n",
    "Data = np.concatenate((np.real(Comp).reshape(np.prod(Comp.shape)),np.imag(Comp).reshape(np.prod(Comp.shape))))\n",
    "\n",
    "##\n",
    "#Perform Fitting\n",
    "poptnoMotion, pcov, infodict, mesg, ier  = curve_fit(lambda x, *theta: EPGForwardModelFitting(x, theta, opt.copy()), 1, Data, p0=par_init, method='trf',absolute_sigma=False,bounds=(low[0:4],high[0:4]),verbose=1,jac=lambda x, *theta: EPGForwardModelFittingJacobian(x,theta,opt.copy()), x_scale='jac',full_output=True,tr_solver='exact',max_nfev=1E5,ftol=Precision, xtol=Precision, gtol=Precision)\n"
   ]
  },
  {
   "cell_type": "code",
   "execution_count": null,
   "metadata": {},
   "outputs": [],
   "source": [
    "##\n",
    "#Fitting with Motion Information\n",
    "\n",
    "##\n",
    "#Initialise fitting parameters (D, S0, Phi, MotionVector)\n",
    "par_init = [0.5E-4, 1, np.pi/2, np.pi/2, *np.zeros(int(opt[\"nTR\"])-int(opt[\"SteadyStateTR\"])), *np.zeros(int(opt[\"nTR\"])-int(opt[\"SteadyStateTR\"]))]\n",
    "\n",
    "##\n",
    "#Initialise Array\n",
    "poptMotion = np.zeros((len(low),*Comp.shape[1:]))\n",
    "\n",
    "##\n",
    "#Define Input Data (1D array: Real & Imaginary Components - Fitting to After Dummy Region)\n",
    "Data = np.concatenate((np.real(Comp).reshape(np.prod(Comp.shape)),np.imag(Comp).reshape(np.prod(Comp.shape))))\n",
    "\n",
    "##\n",
    "#Perform Fitting\n",
    "poptMotion, pcov, infodict, mesg, ier  = curve_fit(lambda x, *theta: EPGForwardMotionModelFitting(x, theta, opt.copy()), 1, Data, p0=par_init, method='trf',absolute_sigma=False,bounds=(low,high),verbose=1,jac=lambda x, *theta: EPGForwardMotionModelFittingJacobian(x,theta,opt.copy()), x_scale='jac',full_output=True,tr_solver='exact',max_nfev=1E5,ftol=Precision, xtol=Precision, gtol=Precision)"
   ]
  },
  {
   "cell_type": "code",
   "execution_count": null,
   "metadata": {},
   "outputs": [],
   "source": [
    "##\n",
    "#Reconstruct Signal & Motion Profile\n",
    "\n",
    "#Create Reconstructed Motion Array\n",
    "TRecon = np.zeros([int(opt['nTR']),2], dtype = 'f8')\n",
    "TRecon[-(int(opt[\"nTR\"])-int(opt[\"SteadyStateTR\"])):,0] = poptMotion[4:4+Magnitude.shape[1]+(int(opt[\"nDummy\"])-int(opt[\"SteadyStateTR\"]))]\n",
    "TRecon[-(int(opt[\"nTR\"])-int(opt[\"SteadyStateTR\"])):,1] = poptMotion[4+Magnitude.shape[1]+(int(opt[\"nDummy\"])-int(opt[\"SteadyStateTR\"])):]\n",
    "\n",
    "\n",
    "#Initialise Signal Array\n",
    "SignalRecon = np.zeros_like(TRecon, dtype = 'c8')\n",
    "\n",
    "##\n",
    "#Reconstruct Signal\n",
    "for k in range(TRecon.shape[1]):\n",
    "    ##\n",
    "    #Declare outputs from fitting to the options file \n",
    "    optRecon = opt.copy()\n",
    "    optRecon['D'] = np.asarray([poptMotion[0]], dtype='f8')   \n",
    "    optRecon['phi'] = np.asarray([poptMotion[2+k]], dtype='f8') \n",
    "    optRecon[\"G\"] = np.asarray([opt[\"GArr\"][k]], dtype='f8')\n",
    "    ##\n",
    "    #Reconstruct signal\n",
    "    SignalRecon[:,k] = poptMotion[1]*EPGMotion(optRecon.copy(), TRecon[:,k])*np.exp(1j*optRecon['phi'])"
   ]
  },
  {
   "cell_type": "code",
   "execution_count": null,
   "metadata": {},
   "outputs": [],
   "source": [
    "##\n",
    "#Print statement on diffusion coefficients\n",
    "print(''.join(['Without Motion correction, estimated diffusion coefficient D = ',str(poptnoMotion[0]*10**3),' x 10^3 mm^2/s']))\n",
    "print(''.join(['With Motion correction, estimated diffusion coefficient D = ',str(poptMotion[0]*10**3),' x 10^3 mm^2/s']))"
   ]
  },
  {
   "cell_type": "code",
   "execution_count": null,
   "metadata": {},
   "outputs": [],
   "source": [
    "##\n",
    "#Plot b0 Data\n",
    "fig, axs = plt.subplots(3, 1)\n",
    "fig.set_size_inches(8,12)\n",
    "#Define x-axis\n",
    "Time = range(SignalRecon.shape[0])*opt[\"TR\"]/1E3\n",
    "#Plot Magnitude data\n",
    "axs[0].plot(Time[int(opt['nDummy']):],np.abs(Comp[:,0]),'#1f77b4',linewidth=2,label = 'Data (Monte Carlo)')\n",
    "axs[0].plot(Time,np.abs(SignalRecon[:,0]),'#ff7f0e',linewidth=2,linestyle='--',label = 'Fit (EPG + Motion)' )\n",
    "axs[0].axvspan(Time[int(opt[\"SteadyStateTR\"])],Time[int(opt[\"nDummy\"])], alpha=0.1,color='#d62728',label = 'Dummy Measurements')\n",
    "axs[0].axvspan(Time[int(opt[\"nDummy\"])],Time[-1],alpha=0.1,color='#2ca02c',label = 'Measured Data')\n",
    "#Plot Phase data (multiply by -i to characterise the motion-free phase as 0)\n",
    "axs[1].plot(Time[int(opt['nDummy']):],np.angle(Comp[:,0]),'#1f77b4',linewidth=2)\n",
    "axs[1].plot(Time,np.angle(SignalRecon[:,0]),'#ff7f0e',linewidth=2,linestyle='--')\n",
    "axs[1].axvspan(Time[int(opt[\"SteadyStateTR\"])],Time[int(opt[\"nDummy\"])], alpha=0.1,color='#d62728')\n",
    "axs[1].axvspan(Time[int(opt[\"nDummy\"])],Time[-1],alpha=0.1,color='#2ca02c')\n",
    "#Plot Time-Series Data\n",
    "axs[2].plot(Time,TRecon[:,0],'#1f77b4',linewidth=2)\n",
    "axs[2].axvspan(Time[int(opt[\"SteadyStateTR\"])],Time[int(opt[\"nDummy\"])], alpha=0.1,color='#d62728')\n",
    "axs[2].axvspan(Time[int(opt[\"nDummy\"])],Time[-1],alpha=0.1,color='#2ca02c')\n",
    "#Add labels etc\n",
    "fig.subplots_adjust(hspace=0.4)\n",
    "axs[0].text(-0.1, 1.05, '(a)', transform=axs[0].transAxes, size=20)\n",
    "axs[2].text(-0.1, 1.05, '(b)', transform=axs[2].transAxes, size=20)\n",
    "axs[0].set_xlim([0,Time[-1]])\n",
    "axs[1].set_xlim([0,Time[-1]])\n",
    "axs[2].set_xlim([0,Time[-1]])\n",
    "axs[1].set_ylim([-np.pi,np.pi])\n",
    "axs[0].set_ylabel('Amplitude (a.u.)',fontsize=12)\n",
    "axs[1].set_ylabel('Angle (rad.)',fontsize=12)\n",
    "axs[2].set_ylabel('Velocity (mm/s)',fontsize=12)\n",
    "axs[0].set_xlabel('Time (s)',fontsize=12)\n",
    "axs[1].set_xlabel('Time (s)',fontsize=12)\n",
    "axs[2].set_xlabel('Time (s)',fontsize=12)\n",
    "axs[0].set_title(r'Magnitude (b$_0$)',fontsize=16)\n",
    "axs[1].set_title(r'Phase (b$_0$)',fontsize=16)\n",
    "axs[2].set_title(r'$T(t)$',fontsize=16)\n",
    "axs[1].set_yticks([-np.pi,0, np.pi],[r'-$\\pi$',0, r'$\\pi$'])\n",
    "axs[0].legend(fontsize=10)"
   ]
  },
  {
   "cell_type": "code",
   "execution_count": null,
   "metadata": {},
   "outputs": [],
   "source": [
    "##\n",
    "#Plot b500 Data\n",
    "fig, axs = plt.subplots(3, 1)\n",
    "fig.set_size_inches(8,12)\n",
    "#Define x-axis\n",
    "Time = range(SignalRecon.shape[0])*opt[\"TR\"]/1E3\n",
    "#Plot Magnitude data\n",
    "axs[0].plot(Time[int(opt['nDummy']):],np.abs(Comp[:,1]),'#1f77b4',linewidth=2,label = 'Data (Monte Carlo)')\n",
    "axs[0].plot(Time,np.abs(SignalRecon[:,1]),'#ff7f0e',linewidth=2,linestyle='--',label = 'Fit (EPG + Motion)' )\n",
    "axs[0].axvspan(Time[int(opt[\"SteadyStateTR\"])],Time[int(opt[\"nDummy\"])], alpha=0.1,color='#d62728',label = 'Dummy Measurements')\n",
    "axs[0].axvspan(Time[int(opt[\"nDummy\"])],Time[-1],alpha=0.1,color='#2ca02c',label = 'Measured Data')\n",
    "#Plot Phase data (multiply by -i to characterise the motion-free phase as 0)\n",
    "axs[1].plot(Time[int(opt['nDummy']):],np.angle(Comp[:,1]),'#1f77b4',linewidth=2)\n",
    "axs[1].plot(Time,np.angle(SignalRecon[:,1]),'#ff7f0e',linewidth=2,linestyle='--')\n",
    "axs[1].axvspan(Time[int(opt[\"SteadyStateTR\"])],Time[int(opt[\"nDummy\"])], alpha=0.1,color='#d62728')\n",
    "axs[1].axvspan(Time[int(opt[\"nDummy\"])],Time[-1],alpha=0.1,color='#2ca02c')\n",
    "#Plot Time-Series Data\n",
    "axs[2].plot(Time,TRecon[:,1],'#1f77b4',linewidth=2)\n",
    "axs[2].axvspan(Time[int(opt[\"SteadyStateTR\"])],Time[int(opt[\"nDummy\"])], alpha=0.1,color='#d62728')\n",
    "axs[2].axvspan(Time[int(opt[\"nDummy\"])],Time[-1],alpha=0.1,color='#2ca02c')\n",
    "#Add labels etc\n",
    "fig.subplots_adjust(hspace=0.4)\n",
    "axs[0].text(-0.1, 1.05, '(a)', transform=axs[0].transAxes, size=20)\n",
    "axs[2].text(-0.1, 1.05, '(b)', transform=axs[2].transAxes, size=20)\n",
    "axs[0].set_xlim([0,Time[-1]])\n",
    "axs[1].set_xlim([0,Time[-1]])\n",
    "axs[2].set_xlim([0,Time[-1]])\n",
    "axs[1].set_ylim([-np.pi,np.pi])\n",
    "axs[0].set_ylabel('Amplitude (a.u.)',fontsize=12)\n",
    "axs[1].set_ylabel('Angle (rad.)',fontsize=12)\n",
    "axs[2].set_ylabel('Velocity (mm/s)',fontsize=12)\n",
    "axs[0].set_xlabel('Time (s)',fontsize=12)\n",
    "axs[1].set_xlabel('Time (s)',fontsize=12)\n",
    "axs[2].set_xlabel('Time (s)',fontsize=12)\n",
    "axs[0].set_title(r'Magnitude (b$_{500}$)',fontsize=16)\n",
    "axs[1].set_title(r'Phase (b$_{500}$)',fontsize=16)\n",
    "axs[2].set_title(r'$T(t)$',fontsize=16)\n",
    "axs[1].set_yticks([-np.pi,0, np.pi],[r'-$\\pi$',0, r'$\\pi$'])\n",
    "axs[0].legend(fontsize=10)"
   ]
  }
 ],
 "metadata": {
  "kernelspec": {
   "display_name": "testenv4",
   "language": "python",
   "name": "python3"
  },
  "language_info": {
   "codemirror_mode": {
    "name": "ipython",
    "version": 3
   },
   "file_extension": ".py",
   "mimetype": "text/x-python",
   "name": "python",
   "nbconvert_exporter": "python",
   "pygments_lexer": "ipython3",
   "version": "3.13.2"
  }
 },
 "nbformat": 4,
 "nbformat_minor": 2
}
