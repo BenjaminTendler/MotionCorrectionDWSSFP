{
 "cells": [
  {
   "cell_type": "code",
   "execution_count": null,
   "metadata": {},
   "outputs": [],
   "source": [
    "##\n",
    "#Load Packages\n",
    "import numpy as np\n",
    "import matplotlib.pyplot as plt\n",
    "from numba import jit\n",
    "import sys\n",
    "from scipy.optimize import curve_fit"
   ]
  },
  {
   "cell_type": "code",
   "execution_count": null,
   "metadata": {},
   "outputs": [],
   "source": [
    "##\n",
    "#Define Path to Code database\n",
    "DirPath = '/Your/Path/To/Code/'"
   ]
  },
  {
   "cell_type": "code",
   "execution_count": null,
   "metadata": {},
   "outputs": [],
   "source": [
    "##\n",
    "#Load functions\n",
    "sys.path.append(''.join([DirPath,'bin']))\n",
    "from EPGMotion import *\n",
    "from MotionSimulation import *\n",
    "from EPGForwardMotionModel import *\n",
    "from Jacobian_MotionCorrection import *\n",
    "from ParameterOptionsSimulation import *"
   ]
  },
  {
   "cell_type": "code",
   "execution_count": null,
   "metadata": {},
   "outputs": [],
   "source": [
    "##\n",
    "#Define Motion Operators - Translation Velocity (mm/s), Rotation Velocity (deg/s), and Maximum Cardiac Velocity (mm/s) along x,y & z-axes\n",
    "Trans= np.array([0, 0, 0])\n",
    "Rot = np.array([0, 0, 0])\n",
    "Card = np.array([0, 0, 0.4])\n",
    "\n",
    "##\n",
    "#Define SNR Level\n",
    "SNR = [20]\n",
    "\n",
    "##\n",
    "#Define Precision (Smaller number leads to more accurate fitting, but is slower)\n",
    "Precision = 1E-4\n",
    "\n",
    "##\n",
    "#Define Voxel Dimensions \n",
    "VoxDims = np.array([1,1,1])"
   ]
  },
  {
   "cell_type": "code",
   "execution_count": null,
   "metadata": {},
   "outputs": [],
   "source": [
    "##\n",
    "#Read Parameters\n",
    "opt=ParameterOptionsSimulation()"
   ]
  },
  {
   "cell_type": "code",
   "execution_count": null,
   "metadata": {},
   "outputs": [],
   "source": [
    "##\n",
    "#Conventional EPG simulates a maximum k-value pathway equal to the number of TRs. This piece of code identifies where increasing the k-value leads to no meaningful change in the signal, with subsequent thresholding to accelerate modelling\n",
    "opt[\"kOrder\"] = kOrder(opt.copy())"
   ]
  },
  {
   "cell_type": "code",
   "execution_count": null,
   "metadata": {},
   "outputs": [],
   "source": [
    "##\n",
    "#Estimate T(t) operator\n",
    "T = np.squeeze(MotionOperator(opt.copy(),Trans,Rot,Card,opt['Mask'][:,np.newaxis,np.newaxis],VoxDims))[:,np.newaxis]"
   ]
  },
  {
   "cell_type": "code",
   "execution_count": null,
   "metadata": {},
   "outputs": [],
   "source": [
    "##\n",
    "#Estimate Signal\n",
    "Signal=EPGMotion(opt, np.squeeze(T))"
   ]
  },
  {
   "cell_type": "code",
   "execution_count": null,
   "metadata": {},
   "outputs": [],
   "source": [
    "##\n",
    "#Add Noise\n",
    "\n",
    "##\n",
    "#Estimate Noise Standard Deviation\n",
    "NoiseSD = np.mean(abs(Signal[int(opt[\"nDummy\"]):]))/SNR\n",
    "\n",
    "##\n",
    "#Initialise SignalNoise repeats\n",
    "SignalNoise = np.zeros_like(Signal)\n",
    "\n",
    "##\n",
    "#Add Noise\n",
    "SignalNoise = (np.real(Signal) + np.random.normal(0, NoiseSD, Signal.shape[0])) + 1j*(np.imag(Signal) + np.random.normal(0, NoiseSD, Signal.shape[0]))"
   ]
  },
  {
   "cell_type": "code",
   "execution_count": null,
   "metadata": {},
   "outputs": [],
   "source": [
    "##\n",
    "#Define lower and upper parameter bounds (fix S0 equal to 1, define MotionParameters between -5 and 5 mm/s))\n",
    "low = [1E-6, 1, -20*np.pi, *np.ones((int(opt[\"nTR\"])-int(opt[\"SteadyStateTR\"])))*-5]\n",
    "high = [10E-3, 1+ + np.finfo('f8').eps, 20*np.pi, *np.ones((int(opt[\"nTR\"])-int(opt[\"SteadyStateTR\"])))*5]"
   ]
  },
  {
   "cell_type": "code",
   "execution_count": null,
   "metadata": {},
   "outputs": [],
   "source": [
    "##\n",
    "#Fitting without Motion Information\n",
    "\n",
    "##\n",
    "#Initialise fitting parameters (D, S0, Phi)\n",
    "par_init = [0.5E-4, 1, np.pi/2]\n",
    "\n",
    "##\n",
    "#Initialise Array\n",
    "poptnoMotion = np.zeros((3,*SignalNoise.shape[1:]))\n",
    "\n",
    "##\n",
    "#Define Input Data (1D array: Real & Imaginary Components - Fitting to After Dummy Region)\n",
    "Data = np.concatenate((np.real(SignalNoise[int(opt[\"nDummy\"]):]).reshape(SignalNoise[int(opt[\"nDummy\"]):].shape[0]),np.imag(SignalNoise[int(opt[\"nDummy\"]):]).reshape(SignalNoise[int(opt[\"nDummy\"]):].shape[0])))\n",
    "\n",
    "##\n",
    "#Perform Fitting\n",
    "poptnoMotion, pcov, infodict, mesg, ier  = curve_fit(lambda x, *theta: EPGForwardModelFitting(x, theta, opt.copy()), 1, Data, p0=par_init, method='trf',absolute_sigma=False,bounds=(low[0:3],high[0:3]),verbose=1,jac=lambda x, *theta: EPGForwardModelFittingJacobian(x,theta,opt.copy()), x_scale='jac',full_output=True,tr_solver='exact',max_nfev=1E5,ftol=Precision, xtol=Precision, gtol=Precision)\n"
   ]
  },
  {
   "cell_type": "code",
   "execution_count": null,
   "metadata": {},
   "outputs": [],
   "source": [
    "##\n",
    "#Fitting with Motion Information\n",
    "\n",
    "##\n",
    "#Initialise fitting parameters (D, S0, Phi, MotionVector)\n",
    "par_init = [0.5E-4, 1, np.pi/2, *np.zeros(int(opt[\"nTR\"])-int(opt[\"SteadyStateTR\"]))]\n",
    "\n",
    "##\n",
    "#Initialise Array\n",
    "poptMotion = np.zeros((len(low),*SignalNoise.shape[1:]))\n",
    "\n",
    "##\n",
    "#Define Input Data (1D array: Real & Imaginary Components - Fitting to After Dummy Region)\n",
    "Data = np.concatenate((np.real(SignalNoise[int(opt[\"nDummy\"]):]).reshape(SignalNoise[int(opt[\"nDummy\"]):].shape[0]),np.imag(SignalNoise[int(opt[\"nDummy\"]):]).reshape(SignalNoise[int(opt[\"nDummy\"]):].shape[0])))\n",
    "\n",
    "##\n",
    "#Perform Fitting\n",
    "poptMotion, pcov, infodict, mesg, ier  = curve_fit(lambda x, *theta: EPGForwardMotionModelFitting(x, theta, opt.copy()), 1, Data, p0=par_init, method='trf',absolute_sigma=False,bounds=(low,high),verbose=1,jac=lambda x, *theta: EPGForwardMotionModelFittingJacobian(x,theta,opt.copy()), x_scale='jac',full_output=True,tr_solver='exact',max_nfev=1E5,ftol=Precision, xtol=Precision, gtol=Precision)"
   ]
  },
  {
   "cell_type": "code",
   "execution_count": null,
   "metadata": {},
   "outputs": [],
   "source": [
    "##\n",
    "#Reconstruct Signal & Motion Profile\n",
    "\n",
    "#Create Reconstructed Motion Array\n",
    "TRecon = np.zeros_like(SignalNoise, dtype = 'f8')\n",
    "TRecon[-(int(opt[\"nTR\"])-int(opt[\"SteadyStateTR\"])):] = poptMotion[3:]\n",
    "\n",
    "#Initialise Signal Array\n",
    "SignalRecon = np.zeros_like(SignalNoise, dtype = 'c8')\n",
    "\n",
    "##\n",
    "#Define Parameters\n",
    "optRecon = opt.copy()\n",
    "optRecon['D'] = np.asarray([poptMotion[0]], dtype='f8')   \n",
    "optRecon['phi'] = np.asarray([poptMotion[2]], dtype='f8') \n",
    "\n",
    "##\n",
    "#Reconstruct signal\n",
    "SignalRecon = EPGMotion(optRecon.copy(), TRecon)\n"
   ]
  },
  {
   "cell_type": "code",
   "execution_count": null,
   "metadata": {},
   "outputs": [],
   "source": [
    "##\n",
    "#Print statement on diffusion coefficients\n",
    "print(''.join(['Simulated diffusion coefficient D = ',str(opt['D'][0]*10**3), r' x $10^{3}$ mm^2/s']))\n",
    "print(''.join(['Without Motion correction, estimated diffusion coefficient D = ',str(poptnoMotion[0]*10**3),r' x $10^3 mm^2/s$']))\n",
    "print(''.join(['With Motion correction, estimated diffusion coefficient D = ',str(poptMotion[0]*10**3),r' x $10^3 mm^2/s$']))"
   ]
  },
  {
   "cell_type": "code",
   "execution_count": null,
   "metadata": {},
   "outputs": [],
   "source": [
    "##\n",
    "#Plot \n",
    "fig, axs = plt.subplots(3, 1)\n",
    "fig.set_size_inches(8,12)\n",
    "#Define x-axis\n",
    "Time = range(Signal.shape[0])*opt[\"TR\"]/1E3\n",
    "#Plot Magnitude data\n",
    "axs[0].plot(Time, np.abs(SignalNoise),'#1f77b4',linewidth=2,label = 'Data (Monte Carlo)')\n",
    "axs[0].plot(Time,np.abs(SignalRecon),'#ff7f0e',linewidth=2,linestyle='--',label = 'Fit (EPG + Motion)' )\n",
    "axs[0].axvspan(Time[int(opt[\"SteadyStateTR\"])],Time[int(opt[\"nDummy\"])], alpha=0.1,color='#d62728',label = 'Dummy Measurements')\n",
    "axs[0].axvspan(Time[int(opt[\"nDummy\"])],Time[-1],alpha=0.1,color='#2ca02c',label = 'Measured Data')\n",
    "#Plot Phase data (multiply by -i to characterise the motion-free phase as 0)\n",
    "axs[1].plot(Time, np.angle(SignalNoise*-1),'#1f77b4',linewidth=2)\n",
    "axs[1].plot(Time,np.angle(SignalRecon*-1),'#ff7f0e',linewidth=2,linestyle='--')\n",
    "axs[1].axvspan(Time[int(opt[\"SteadyStateTR\"])],Time[int(opt[\"nDummy\"])], alpha=0.1,color='#d62728')\n",
    "axs[1].axvspan(Time[int(opt[\"nDummy\"])],Time[-1],alpha=0.1,color='#2ca02c')\n",
    "#Plot Time-Series Data\n",
    "axs[2].plot(Time,T,'#1f77b4',linewidth=2)\n",
    "axs[2].plot(Time,TRecon,'#ff7f0e',linewidth=2,linestyle='--')\n",
    "axs[2].axvspan(Time[int(opt[\"SteadyStateTR\"])],Time[int(opt[\"nDummy\"])], alpha=0.1,color='#d62728')\n",
    "axs[2].axvspan(Time[int(opt[\"nDummy\"])],Time[-1],alpha=0.1,color='#2ca02c')\n",
    "#Add labels etc\n",
    "fig.subplots_adjust(hspace=0.4)\n",
    "axs[0].text(-0.1, 1.05, '(a)', transform=axs[0].transAxes, size=20)\n",
    "axs[2].text(-0.1, 1.05, '(b)', transform=axs[2].transAxes, size=20)\n",
    "axs[0].set_xlim([0,Time[-1]])\n",
    "axs[1].set_xlim([0,Time[-1]])\n",
    "axs[2].set_xlim([0,Time[-1]])\n",
    "axs[1].set_ylim([-np.pi,np.pi])\n",
    "axs[0].set_ylabel('Amplitude (a.u.)',fontsize=12)\n",
    "axs[1].set_ylabel('Angle (rad.)',fontsize=12)\n",
    "axs[2].set_ylabel('Velocity (mm/s)',fontsize=12)\n",
    "axs[0].set_xlabel('Time (s)',fontsize=12)\n",
    "axs[1].set_xlabel('Time (s)',fontsize=12)\n",
    "axs[2].set_xlabel('Time (s)',fontsize=12)\n",
    "axs[0].set_title('Magnitude',fontsize=16)\n",
    "axs[1].set_title('Phase',fontsize=16)\n",
    "axs[2].set_title(r'$T(t)$',fontsize=16)\n",
    "axs[1].set_yticks([-np.pi,0, np.pi],[r'-$\\pi$',0, r'$\\pi$'])\n",
    "axs[0].legend(fontsize=10)"
   ]
  }
 ],
 "metadata": {
  "kernelspec": {
   "display_name": "testenv4",
   "language": "python",
   "name": "python3"
  },
  "language_info": {
   "codemirror_mode": {
    "name": "ipython",
    "version": 3
   },
   "file_extension": ".py",
   "mimetype": "text/x-python",
   "name": "python",
   "nbconvert_exporter": "python",
   "pygments_lexer": "ipython3",
   "version": "3.13.2"
  }
 },
 "nbformat": 4,
 "nbformat_minor": 2
}
