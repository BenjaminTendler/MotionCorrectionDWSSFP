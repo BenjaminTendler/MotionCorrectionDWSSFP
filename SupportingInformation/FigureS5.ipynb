{
 "cells": [
  {
   "cell_type": "code",
   "execution_count": null,
   "metadata": {},
   "outputs": [],
   "source": [
    "##\n",
    "#Load Packages\n",
    "import numpy as np\n",
    "import matplotlib.pyplot as plt\n",
    "from numba import jit\n",
    "import sys\n",
    "from scipy.optimize import curve_fit"
   ]
  },
  {
   "cell_type": "code",
   "execution_count": null,
   "metadata": {},
   "outputs": [],
   "source": [
    "##\n",
    "#Define Path to Code Database\n",
    "DirPath = '/Your/Path/To/Code/'\n",
    "\n",
    "##\n",
    "#Define Output Path\n",
    "OutputPath = '/Your/Path/To/Output/'"
   ]
  },
  {
   "cell_type": "code",
   "execution_count": null,
   "metadata": {},
   "outputs": [],
   "source": [
    "##\n",
    "#Load Functions\n",
    "sys.path.append(''.join([DirPath,'bin']))\n",
    "from EPGMotion import *\n",
    "from EPGForwardMotionModel import *\n",
    "from Jacobian_MotionCorrection import *\n",
    "from ParameterOptionsSimulation import *"
   ]
  },
  {
   "cell_type": "code",
   "execution_count": null,
   "metadata": {},
   "outputs": [],
   "source": [
    "##\n",
    "#Read Parameters\n",
    "opt = ParameterOptionsSimulation()"
   ]
  },
  {
   "cell_type": "code",
   "execution_count": null,
   "metadata": {},
   "outputs": [],
   "source": [
    "##\n",
    "#Conventional EPG simulates a maximum k-value pathway equal to the number of TRs. This piece of code identifies where increasing the k-value leads to no meaningful change in the signal, with subsequent thresholding to accelerate modelling\n",
    "opt[\"kOrder\"] = kOrder(opt.copy())"
   ]
  },
  {
   "cell_type": "code",
   "execution_count": null,
   "metadata": {},
   "outputs": [],
   "source": [
    "##\n",
    "#Load Monte Carlo Simulation Data (Convert to Complex)\n",
    "Signal = np.loadtxt(''.join([DirPath,'/MonteCarlo/CardiacMagnitudeMC.csv']),delimiter=',')*np.exp(1j*np.loadtxt(''.join([DirPath,'/MonteCarlo/CardiacPhaseMC.csv']),delimiter=','))\n",
    "\n",
    "##\n",
    "#Load Motion Profile - Identical to those used for the MC simulations (every 100th timepoint)\n",
    "V = np.loadtxt(''.join([DirPath,'/MonteCarlo/MotionProfileCardiac.csv']),delimiter=',')\n",
    "\n",
    "##\n",
    "#Multiply Signal by -1 to set the phase offset equal to 0.\n",
    "Signal *= -1"
   ]
  },
  {
   "cell_type": "code",
   "execution_count": null,
   "metadata": {},
   "outputs": [],
   "source": [
    "##\n",
    "#Add Noise\n",
    "\n",
    "##\n",
    "#Estimate Noise SD\n",
    "SNR = 2\n",
    "NoiseSD = np.mean(abs(Signal[int(opt[\"nDummy\"][0]):]))/SNR\n",
    "\n",
    "##\n",
    "#Number of Repeats\n",
    "nRepeats = 10\n",
    "\n",
    "##\n",
    "#Initialise SignalNoise Repeats\n",
    "SignalNoise = np.zeros((Signal.shape[0],nRepeats),dtype = 'c8')\n",
    "\n",
    "##\n",
    "#Add Noise\n",
    "for k in range(SignalNoise.shape[1]):\n",
    "    SignalNoise[:,k] = (np.real(Signal) + np.random.normal(0, NoiseSD, Signal.shape[0])) + 1j*(np.imag(Signal) + np.random.normal(0, NoiseSD, Signal.shape[0]))"
   ]
  },
  {
   "cell_type": "code",
   "execution_count": null,
   "metadata": {},
   "outputs": [],
   "source": [
    "##\n",
    "#Define lower and upper parameter bounds (fix S0 equal to 1, define MotionParameters between -1.5 and 1.5 mm/s))\n",
    "low = [1E-6, 1, -20*np.pi, *np.ones((int(opt[\"nTR\"][0])-int(opt[\"SteadyStateTR\"][0])))*-1.5]\n",
    "high = [10E-3, 1+ + np.finfo('f8').eps, 20*np.pi, *np.ones((int(opt[\"nTR\"][0])-int(opt[\"SteadyStateTR\"][0])))*1.5]"
   ]
  },
  {
   "cell_type": "code",
   "execution_count": null,
   "metadata": {},
   "outputs": [],
   "source": [
    "##\n",
    "#Fitting without Motion Estimation\n",
    "\n",
    "##\n",
    "#Initialise fitting parameters (D, S0, Phi)\n",
    "par_init = [5E-4, 1, np.pi/2]\n",
    "\n",
    "##\n",
    "#Initialise Array\n",
    "poptnoMotion = np.zeros((3,SignalNoise.shape[1]))\n",
    "\n",
    "##\n",
    "#Perform Fitting\n",
    "for k in range(SignalNoise.shape[1]):\n",
    "    #Input Data (1D array: Real & Imaginary Components - Fitting to After Dummy Region)\n",
    "    Data = np.concatenate((np.real(SignalNoise[int(opt[\"nDummy\"][0]):,k]).reshape(SignalNoise[int(opt[\"nDummy\"][0]):,k].shape[0]),np.imag(SignalNoise[int(opt[\"nDummy\"][0]):,k]).reshape(SignalNoise[int(opt[\"nDummy\"][0]):,k].shape[0])))\n",
    "    #Perform Fitting\n",
    "    poptnoMotion[:,k], pcov, infodict, mesg, ier  = curve_fit(lambda x, *theta: EPGForwardModelFitting(x, theta, opt.copy()), 1, Data, p0=par_init, method='trf',absolute_sigma=False,bounds=(low[0:3],high[0:3]),verbose=1,jac=lambda x, *theta: EPGForwardModelFittingJacobian(x,theta,opt.copy()), x_scale='jac',full_output=True,tr_solver='exact')\n"
   ]
  },
  {
   "cell_type": "code",
   "execution_count": null,
   "metadata": {},
   "outputs": [],
   "source": [
    "##\n",
    "#Fitting with Motion Estimation\n",
    "\n",
    "##\n",
    "#Initialise fitting parameters (D, S0, Phi, MotionVector)\n",
    "par_init = [0.5E-4, 1, np.pi/2, *np.zeros(int(opt[\"nTR\"][0])-int(opt[\"SteadyStateTR\"][0]))]\n",
    "\n",
    "##\n",
    "#Initialise Array\n",
    "poptMotion = np.zeros((len(low),SignalNoise.shape[1]))\n",
    "\n",
    "##\n",
    "#Perform Fitting\n",
    "for k in range(SignalNoise.shape[1]):\n",
    "    #Input Data (1D array: Real & Imaginary Components - Fitting to After Dummy Region)\n",
    "    Data = np.concatenate((np.real(SignalNoise[int(opt[\"nDummy\"][0]):,k]).reshape(SignalNoise[int(opt[\"nDummy\"][0]):,k].shape[0]),np.imag(SignalNoise[int(opt[\"nDummy\"][0]):,k]).reshape(SignalNoise[int(opt[\"nDummy\"][0]):,k].shape[0])))\n",
    "    #Perform Fitting\n",
    "    poptMotion[:,k], pcov, infodict, mesg, ier  = curve_fit(lambda x, *theta: EPGForwardMotionModelFitting(x, theta, opt.copy()), 1, Data, p0=par_init, method='trf',absolute_sigma=False,bounds=(low,high),verbose=1,jac=lambda x, *theta: EPGForwardMotionModelFittingJacobian(x,theta,opt.copy()), x_scale='jac',full_output=True,tr_solver='exact',ftol=1e-3, xtol=1e-3, gtol=1e-3)"
   ]
  },
  {
   "cell_type": "code",
   "execution_count": null,
   "metadata": {},
   "outputs": [],
   "source": [
    "##\n",
    "#Reconstruct Signal & Motion Profile\n",
    "\n",
    "##\n",
    "#Create Reconstructed Motion Array\n",
    "VRecon = np.zeros_like(SignalNoise, dtype = 'f8')\n",
    "VRecon[-(int(opt[\"nTR\"][0])-int(opt[\"SteadyStateTR\"][0])):,:] = poptMotion[3:]\n",
    "\n",
    "##\n",
    "#Initialise Signal Array\n",
    "SignalRecon = np.zeros_like(SignalNoise, dtype = 'c8')\n",
    "\n",
    "##\n",
    "#Reconstruct Signal\n",
    "for k in range(SignalNoise.shape[1]):\n",
    "    ##\n",
    "    #Declare outputs from fitting to the options file \n",
    "    optRecon = opt.copy()\n",
    "    optRecon['D'] = np.asarray([poptMotion[0,k]], dtype='f8')   \n",
    "    optRecon['phi'] = np.asarray([poptMotion[2,k]], dtype='f8') \n",
    "\n",
    "    ##\n",
    "    #Reconstruct signal\n",
    "    SignalRecon[:,k] = EPGMotion(optRecon.copy(), VRecon[:,k])"
   ]
  },
  {
   "cell_type": "code",
   "execution_count": null,
   "metadata": {},
   "outputs": [],
   "source": [
    "##\n",
    "#Get Mean & Standard Deviation (Original Signal)\n",
    "SignalNoiseMean = np.mean(SignalNoise,axis=-1)\n",
    "SignalNoiseSD = np.std(SignalNoise,axis=-1)\n",
    "\n",
    "##\n",
    "#Get Mean & Standard Deviation (Reconstructed Signal)\n",
    "SignalReconMean = np.mean(SignalRecon,axis=-1)\n",
    "SignalReconSD = np.std(SignalRecon,axis=-1)\n",
    "\n",
    "##\n",
    "#Get Mean & Standard Deviation (Motion Profile)\n",
    "VReconMean = np.mean(VRecon,axis=-1)\n",
    "VReconSD = np.std(VRecon,axis=-1)"
   ]
  },
  {
   "cell_type": "code",
   "execution_count": null,
   "metadata": {},
   "outputs": [],
   "source": [
    "##\n",
    "#Plot \n",
    "fig, axs = plt.subplots(3, 1)\n",
    "fig.set_size_inches(8,12)\n",
    "\n",
    "##\n",
    "#Define x-axis\n",
    "Time = range(Signal.shape[0])*opt[\"TR\"]/1E3\n",
    "\n",
    "##\n",
    "#Plot Magnitude data\n",
    "axs[0].plot(Time, np.abs(SignalNoiseMean),'#1f77b4',linewidth=2,label = 'Data (Monte Carlo)')\n",
    "axs[0].plot(Time,np.abs(SignalReconMean),'#ff7f0e',linewidth=2,linestyle='--',label = 'Fit (EPG + Motion)' )\n",
    "axs[0].fill_between(Time,np.abs(SignalReconMean)+np.abs(SignalReconSD),np.abs(SignalReconMean)-np.abs(SignalReconSD), color='#ff7f0e',alpha=0.2)\n",
    "axs[0].axvspan(Time[int(opt[\"SteadyStateTR\"][0])],Time[int(opt[\"nDummy\"][0])], alpha=0.1,color='#d62728',label = 'Dummy Measurements')\n",
    "axs[0].axvspan(Time[int(opt[\"nDummy\"][0])],Time[-1],alpha=0.1,color='#2ca02c',label = 'Measured Data')\n",
    "\n",
    "##\n",
    "#Plot Phase data (multiply by -i to characterise the motion-free phase as 0)\n",
    "axs[1].plot(Time, np.angle(SignalNoiseMean*-1),'#1f77b4',linewidth=2)\n",
    "axs[1].plot(Time,np.angle(SignalReconMean*-1),'#ff7f0e',linewidth=2,linestyle='--')\n",
    "axs[1].axvspan(Time[int(opt[\"SteadyStateTR\"][0])],Time[int(opt[\"nDummy\"][0])], alpha=0.1,color='#d62728')\n",
    "axs[1].axvspan(Time[int(opt[\"nDummy\"][0])],Time[-1],alpha=0.1,color='#2ca02c')\n",
    "axs[1].fill_between(Time,np.angle((SignalReconMean+SignalReconSD)*-1),np.angle((SignalReconMean-SignalReconSD)*-1), color='#ff7f0e',alpha=0.2)\n",
    "\n",
    "##\n",
    "#Plot Time-Series Data\n",
    "axs[2].plot(Time,V,'#1f77b4',linewidth=2)\n",
    "axs[2].plot(Time,VReconMean,'#ff7f0e',linewidth=2,linestyle='--')\n",
    "axs[2].fill_between(Time,VReconMean+VReconSD,VReconMean-VReconSD, color='#ff7f0e',alpha=0.2)\n",
    "axs[2].axvspan(Time[int(opt[\"SteadyStateTR\"][0])],Time[int(opt[\"nDummy\"][0])], alpha=0.1,color='#d62728')\n",
    "axs[2].axvspan(Time[int(opt[\"nDummy\"][0])],Time[-1],alpha=0.1,color='#2ca02c')\n",
    "\n",
    "##\n",
    "#Add labels etc\n",
    "fig.subplots_adjust(hspace=0.4)\n",
    "axs[0].text(-0.1, 1.05, '(a)', transform=axs[0].transAxes, size=20)\n",
    "axs[2].text(-0.1, 1.05, '(b)', transform=axs[2].transAxes, size=20)\n",
    "axs[0].set_xlim([0,Time[-1]])\n",
    "axs[1].set_xlim([0,Time[-1]])\n",
    "axs[2].set_xlim([0,Time[-1]])\n",
    "axs[0].set_ylim([0,0.05])\n",
    "axs[1].set_ylim([-np.pi,np.pi])\n",
    "axs[2].set_ylim([-0.3,0.7])\n",
    "axs[0].set_ylabel('Amplitude (a.u.)',fontsize=12)\n",
    "axs[1].set_ylabel('Angle (rad.)',fontsize=12)\n",
    "axs[2].set_ylabel('Velocity (mm/s)',fontsize=12)\n",
    "axs[0].set_xlabel('Time (s)',fontsize=12)\n",
    "axs[1].set_xlabel('Time (s)',fontsize=12)\n",
    "axs[2].set_xlabel('Time (s)',fontsize=12)\n",
    "axs[0].set_title('Magnitude',fontsize=16)\n",
    "axs[1].set_title('Phase',fontsize=16)\n",
    "axs[2].set_title(r'$V(t)$',fontsize=16)\n",
    "axs[1].set_yticks([-np.pi,0, np.pi],[r'-$\\pi$',0, r'$\\pi$'])\n",
    "axs[0].legend(fontsize=10)"
   ]
  },
  {
   "cell_type": "code",
   "execution_count": null,
   "metadata": {},
   "outputs": [],
   "source": [
    "##\n",
    "#Save Figure\n",
    "fig.savefig(''.join([OutputPath,'FigureS5.png']),dpi=300,format='png',bbox_inches='tight')"
   ]
  }
 ],
 "metadata": {
  "kernelspec": {
   "display_name": "testenv4",
   "language": "python",
   "name": "python3"
  },
  "language_info": {
   "codemirror_mode": {
    "name": "ipython",
    "version": 3
   },
   "file_extension": ".py",
   "mimetype": "text/x-python",
   "name": "python",
   "nbconvert_exporter": "python",
   "pygments_lexer": "ipython3",
   "version": "3.13.2"
  }
 },
 "nbformat": 4,
 "nbformat_minor": 2
}
