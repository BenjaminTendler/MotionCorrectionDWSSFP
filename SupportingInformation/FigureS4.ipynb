{
 "cells": [
  {
   "cell_type": "code",
   "execution_count": null,
   "metadata": {},
   "outputs": [],
   "source": [
    "##\n",
    "#Load Packages\n",
    "import numpy as np\n",
    "import matplotlib.pyplot as plt\n",
    "from numba import jit\n",
    "import sys"
   ]
  },
  {
   "cell_type": "code",
   "execution_count": null,
   "metadata": {},
   "outputs": [],
   "source": [
    "##\n",
    "#Define Path to Code Database\n",
    "DirPath = '/Your/Path/To/Code/'\n",
    "\n",
    "##\n",
    "#Define Output Path\n",
    "OutputPath = '/Your/Path/To/Output/'"
   ]
  },
  {
   "cell_type": "code",
   "execution_count": null,
   "metadata": {},
   "outputs": [],
   "source": [
    "##\n",
    "#Load Functions\n",
    "sys.path.append(''.join([DirPath,'bin']))\n",
    "from EPGMotion import *\n",
    "from ParameterOptionsSimulation import *"
   ]
  },
  {
   "cell_type": "code",
   "execution_count": null,
   "metadata": {},
   "outputs": [],
   "source": [
    "##\n",
    "#Read Parameters\n",
    "opt = ParameterOptionsSimulation()"
   ]
  },
  {
   "cell_type": "code",
   "execution_count": null,
   "metadata": {},
   "outputs": [],
   "source": [
    "##\n",
    "#Define Motion Profile (Translational Motion = 0.2 mm/s Along Single Axis)\n",
    "MotionScale = np.ones(opt[\"nTR\"].astype(np.int32)[0])*0.2"
   ]
  },
  {
   "cell_type": "code",
   "execution_count": null,
   "metadata": {},
   "outputs": [],
   "source": [
    "##\n",
    "#Estimate Signal With & Without Motion\n",
    "\n",
    "##\n",
    "#Define Diffusion Coeficient Array (log Scale)\n",
    "DArr = np.linspace(-6,-1,num=100)\n",
    "\n",
    "##\n",
    "#Initialise Signal Arrays \n",
    "Signal = np.zeros((int(opt['nTR'][0]),DArr.shape[0]),dtype='c8')\n",
    "SignalMotion = np.zeros((int(opt['nTR'][0]),DArr.shape[0]),dtype='c8')\n",
    "\n",
    "##\n",
    "#Simulate Signals\n",
    "for idx, D in enumerate(DArr):\n",
    "    opt['D'] = np.asarray([10**D], dtype='f8')\n",
    "    Signal[:,idx] = EPGMotion(opt)\n",
    "    SignalMotion[:,idx] = EPGMotion(opt, MotionScale)"
   ]
  },
  {
   "cell_type": "code",
   "execution_count": null,
   "metadata": {},
   "outputs": [],
   "source": [
    "##\n",
    "#Characterise Signal Contribution from Different k-States (Longitudinal Contribution)\n",
    "\n",
    "##\n",
    "#Define Diffusion Coefficients\n",
    "DLow = 1E-4\n",
    "DHigh = 1E-3\n",
    "\n",
    "##\n",
    "#Initialise Output Arrays\n",
    "Sk_Low = np.zeros((11), dtype = 'c8')\n",
    "Sk_High = np.zeros((11), dtype = 'c8')\n",
    "\n",
    "##\n",
    "#Define Constants (b-value and Velocity Equivalent) - Longitudinal Contribution\n",
    "gamma_tau_G = opt['gamma'] * opt['tau'] * opt['G']\n",
    "bLong = (gamma_tau_G**2) * opt['TR'] * 10**-21\n",
    "vLong = gamma_tau_G * opt['TR'] * MotionScale[-1] * 10**-12\n",
    "\n",
    "##\n",
    "#Estimate Contribution of Different k-States\n",
    "for k in range(0,11):\n",
    "    Sk_Low[k] = np.exp(-bLong[0] * k**2 * DLow)*np.exp(-1j * vLong[0] * k)\n",
    "    Sk_High[k] = np.exp(-bLong[0] * k**2 * DHigh)*np.exp(-1j * vLong[0] * k)"
   ]
  },
  {
   "cell_type": "code",
   "execution_count": null,
   "metadata": {},
   "outputs": [],
   "source": [
    "##\n",
    "#Plot \n",
    "fig, axs = plt.subplots(2, 2)\n",
    "fig.set_size_inches(12,8)\n",
    "\n",
    "##\n",
    "#Define x-axis\n",
    "\n",
    "##\n",
    "#Plot Magnitude Attentuation\n",
    "axs[0,0].plot(10**DArr, np.abs(SignalMotion[-1,:]/Signal[-1,:]),'#1f77b4',linewidth=2)\n",
    "axs[0,0].set_xscale('log')\n",
    "\n",
    "##\n",
    "#Plot Phase Diference \n",
    "axs[0,1].plot(10**DArr,np.angle(SignalMotion[-1,:]/Signal[-1,:]),'#1f77b4',linewidth=2)\n",
    "axs[0,1].set_xscale('log')\n",
    "\n",
    "\n",
    "##\n",
    "#Plot contribution of different k-states - Magnitude\n",
    "axs[1,0].plot(range(0,11),np.abs(Sk_Low),linewidth=2)\n",
    "axs[1,0].plot(range(0,11),np.abs(Sk_High),linewidth=2)\n",
    "\n",
    "##\n",
    "#Plot contribution of different k-states - Phase\n",
    "axs[1,1].plot(range(0,11),np.angle(Sk_Low),linewidth=2)\n",
    "axs[1,1].plot(range(0,11),np.angle(Sk_High),linestyle='--',linewidth=2)\n",
    "\n",
    "##\n",
    "#Add labels etc\n",
    "fig.subplots_adjust(wspace=0.2,hspace=0.4)\n",
    "axs[0,0].set_ylim([0.2,1.05])\n",
    "axs[0,1].set_ylim([0,np.pi])\n",
    "axs[0,0].set_ylabel('Magnitude Attenuation (norm.)')\n",
    "axs[0,1].set_ylabel('Phase Difference (rad.)')\n",
    "axs[0,0].set_xlabel(r'D (mm$^2$/s)' )\n",
    "axs[0,1].set_xlabel(r'D (mm$^2$/s)')\n",
    "axs[0,0].set_yticks([0.2,0.4,0.6,0.8,1])\n",
    "axs[0,1].set_yticks([0, np.pi/2, np.pi],[0, r'$\\pi$/2', r'$\\pi$'])\n",
    "axs[0,0].set_title('Motion Induced Magnitude Attenuation')\n",
    "axs[0,1].set_title('Motion Induced Phase Difference')\n",
    "axs[1,0].set_title(r'Relative Contribution of k states (Magnitude)')\n",
    "axs[1,1].set_title(r'Relative Contribution of k states (Phase)')\n",
    "axs[1,0].set_xlabel(r'k/q')\n",
    "axs[1,1].set_xlabel(r'k/q')\n",
    "axs[1,0].set_ylabel('Relative Magnitude (norm.)')\n",
    "axs[1,1].set_ylabel('Relative Phase (rad.)')\n",
    "axs[1,0].legend([''.join(['D =','{:.1E}'.format(DLow),r' mm$^2$/s']),''.join(['D =','{:.1E}'.format(DHigh),r' mm$^2$/s'])])\n",
    "axs[1,1].legend([''.join(['D =','{:.1E}'.format(DLow),r' mm$^2$/s']),''.join(['D =','{:.1E}'.format(DHigh),r' mm$^2$/s'])])\n",
    "axs[1,1].set_yticks([-np.pi, 0, np.pi],[r'$\\pi$', 0, r'$\\pi$'])\n",
    "axs[0,0].text(-0.1, 1.10, '(a)', transform=axs[0,0].transAxes, size=15)\n",
    "axs[0,1].text(-0.1, 1.10, '(b)', transform=axs[0,1].transAxes, size=15)\n",
    "axs[1,0].text(-0.1, 1.10, '(c)', transform=axs[1,0].transAxes, size=15)\n",
    "axs[1,1].text(-0.1, 1.10, '(d)', transform=axs[1,1].transAxes, size=15)"
   ]
  },
  {
   "cell_type": "code",
   "execution_count": null,
   "metadata": {},
   "outputs": [],
   "source": [
    "##\n",
    "#Save Figure\n",
    "fig.savefig(''.join([OutputPath,'FigureS4.png']),dpi=300,format='png',bbox_inches='tight')"
   ]
  }
 ],
 "metadata": {
  "kernelspec": {
   "display_name": "testenv4",
   "language": "python",
   "name": "python3"
  },
  "language_info": {
   "codemirror_mode": {
    "name": "ipython",
    "version": 3
   },
   "file_extension": ".py",
   "mimetype": "text/x-python",
   "name": "python",
   "nbconvert_exporter": "python",
   "pygments_lexer": "ipython3",
   "version": "3.13.2"
  }
 },
 "nbformat": 4,
 "nbformat_minor": 2
}
