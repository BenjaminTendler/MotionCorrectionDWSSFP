{
 "cells": [
  {
   "cell_type": "code",
   "execution_count": null,
   "metadata": {},
   "outputs": [],
   "source": [
    "##\n",
    "#Load Packages\n",
    "import numpy as np\n",
    "import matplotlib.pyplot as plt\n",
    "from numba import jit\n",
    "import sys\n",
    "import nibabel as nib"
   ]
  },
  {
   "cell_type": "code",
   "execution_count": null,
   "metadata": {},
   "outputs": [],
   "source": [
    "##\n",
    "#Define Path to Code Database\n",
    "DirPath = '/Your/Path/To/Code/'\n",
    "\n",
    "##\n",
    "#Define Output Path\n",
    "OutputPath = '/Your/Path/To/Output/'\n",
    "\n",
    "##\n",
    "#Define Path to HCP1065 MD Map (in FSL this is equivalent to $FSLDIR/data/standard/FSL_HCP1065_MD_1mm.nii.gz)\n",
    "MDPath = '/usr/local/fsl/data/standard/FSL_HCP1065_MD_1mm.nii.gz'"
   ]
  },
  {
   "cell_type": "code",
   "execution_count": null,
   "metadata": {},
   "outputs": [],
   "source": [
    "##\n",
    "#Load Functions\n",
    "sys.path.append(''.join([DirPath,'bin']))\n",
    "from ParameterOptionsSimulation import *\n",
    "from MotionSimulation import *"
   ]
  },
  {
   "cell_type": "code",
   "execution_count": null,
   "metadata": {},
   "outputs": [],
   "source": [
    "##\n",
    "#Read Parameters\n",
    "opt = ParameterOptionsSimulation()"
   ]
  },
  {
   "cell_type": "code",
   "execution_count": null,
   "metadata": {},
   "outputs": [],
   "source": [
    "##\n",
    "#Define Slice to Sample \n",
    "slice = 80\n",
    "\n",
    "#Generate Mask and affine from HCP1065 MD map\n",
    "Mask = np.atleast_3d(nib.load(MDPath).get_fdata())[:,:,slice][:,:,np.newaxis] > 0\n",
    "Affine = nib.load(MDPath).affine\n",
    "\n",
    "##\n",
    "#Get Voxel Dimensions (in mm)\n",
    "VoxDims = nib.affines.voxel_sizes(Affine)"
   ]
  },
  {
   "cell_type": "code",
   "execution_count": null,
   "metadata": {},
   "outputs": [],
   "source": [
    "##\n",
    "#Define Simulation Parameters (Maximum cardiac velocity = 0.4 mm/s; Heart rate - 50 beats / minute)\n",
    "CardiacVec = np.array([0,0,1])\n",
    "HeartRate = np.array([50])"
   ]
  },
  {
   "cell_type": "code",
   "execution_count": null,
   "metadata": {},
   "outputs": [],
   "source": [
    "##\n",
    "#Synthetise Velocity Distribution\n",
    "VelocityDistribution = VelocityDistributionCardiac(CardiacVec,Mask,VoxDims)"
   ]
  },
  {
   "cell_type": "code",
   "execution_count": null,
   "metadata": {},
   "outputs": [],
   "source": [
    "##\n",
    "#Plot\n",
    "fig, ax = plt.subplots()\n",
    "im = ax.imshow(np.rot90(VelocityDistribution[15:-20,15:-15,0,2] + (Mask[15:-20,15:-15,0] == False)*2),clim=[0,1],cmap='gray'); ax.axis('off')\n",
    "plt.colorbar(im,fraction=0.1, pad=0.04, ticks=[0, 1],label = 'Relative Velocity')"
   ]
  },
  {
   "cell_type": "code",
   "execution_count": null,
   "metadata": {},
   "outputs": [],
   "source": [
    "#Save Figure\n",
    "fig.savefig(''.join([OutputPath,'FigureS2.png']),dpi=300,format='png',bbox_inches='tight')"
   ]
  }
 ],
 "metadata": {
  "kernelspec": {
   "display_name": "testenv4",
   "language": "python",
   "name": "python3"
  },
  "language_info": {
   "codemirror_mode": {
    "name": "ipython",
    "version": 3
   },
   "file_extension": ".py",
   "mimetype": "text/x-python",
   "name": "python",
   "nbconvert_exporter": "python",
   "pygments_lexer": "ipython3",
   "version": "3.13.2"
  }
 },
 "nbformat": 4,
 "nbformat_minor": 2
}
