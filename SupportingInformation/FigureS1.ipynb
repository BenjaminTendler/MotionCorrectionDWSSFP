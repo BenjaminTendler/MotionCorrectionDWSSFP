{
 "cells": [
  {
   "cell_type": "code",
   "execution_count": null,
   "metadata": {},
   "outputs": [],
   "source": [
    "##\n",
    "#Load Packages\n",
    "import numpy as np\n",
    "import matplotlib.pyplot as plt\n",
    "from numba import jit\n",
    "import sys"
   ]
  },
  {
   "cell_type": "code",
   "execution_count": null,
   "metadata": {},
   "outputs": [],
   "source": [
    "##\n",
    "#Define Path to Code Database\n",
    "DirPath = '/Your/Path/To/Code/'\n",
    "\n",
    "##\n",
    "#Define Output Path\n",
    "OutputPath = '/Your/Path/To/Output/'"
   ]
  },
  {
   "cell_type": "code",
   "execution_count": null,
   "metadata": {},
   "outputs": [],
   "source": [
    "##\n",
    "#Load Functions\n",
    "sys.path.append(''.join([DirPath,'bin']))\n",
    "from ParameterOptionsSimulation import *\n",
    "from MotionSimulation import *"
   ]
  },
  {
   "cell_type": "code",
   "execution_count": null,
   "metadata": {},
   "outputs": [],
   "source": [
    "##\n",
    "#Read Parameters\n",
    "opt = ParameterOptionsSimulation()"
   ]
  },
  {
   "cell_type": "code",
   "execution_count": null,
   "metadata": {},
   "outputs": [],
   "source": [
    "##\n",
    "#Define Simulation Parameters (Maximum Cardiac Velocity = 0.4 mm/s; Heart rate - 50 beats / minute)\n",
    "CardiacVec = np.array([0,0,1])\n",
    "HeartRate = np.array([50])\n",
    "\n",
    "##\n",
    "#Define Simulation Parameters (Software is designed for 3D data, this setup enables us to simulate 1D profiles withouth duplicating code)\n",
    "VoxDims = np.array([1,1,1])\n",
    "Mask = np.atleast_3d([1])\n"
   ]
  },
  {
   "cell_type": "code",
   "execution_count": null,
   "metadata": {},
   "outputs": [],
   "source": [
    "##\n",
    "#Run Simulation with High Temporal Resolution\n",
    "opt['TR'] = np.asarray([1], dtype='f8')    \n",
    "opt['nTR'] = np.asarray([8000], dtype='f8') "
   ]
  },
  {
   "cell_type": "code",
   "execution_count": null,
   "metadata": {},
   "outputs": [],
   "source": [
    "##\n",
    "#Synthetise Velocity Profile\n",
    "VelocityProfile = CardiacMotionProfile(opt.copy(),CardiacVec,HeartRate,Mask,VoxDims)"
   ]
  },
  {
   "cell_type": "code",
   "execution_count": null,
   "metadata": {},
   "outputs": [],
   "source": [
    "##\n",
    "#Plot\n",
    "Time = range(VelocityProfile.shape[3])*opt[\"TR\"]/1E3\n",
    "fig, ax = plt.subplots()\n",
    "ax.plot(Time,np.squeeze(VelocityProfile))\n",
    "ax.set_title('Cardiac Velocity Profile')\n",
    "ax.set_ylabel('Relative Velocity')\n",
    "ax.set_xlabel('Time (s)')"
   ]
  },
  {
   "cell_type": "code",
   "execution_count": null,
   "metadata": {},
   "outputs": [],
   "source": [
    "#Save Figure\n",
    "fig.savefig(''.join([OutputPath,'FigureS1.png']),dpi=300,format='png',bbox_inches='tight')"
   ]
  }
 ],
 "metadata": {
  "kernelspec": {
   "display_name": "testenv4",
   "language": "python",
   "name": "python3"
  },
  "language_info": {
   "codemirror_mode": {
    "name": "ipython",
    "version": 3
   },
   "file_extension": ".py",
   "mimetype": "text/x-python",
   "name": "python",
   "nbconvert_exporter": "python",
   "pygments_lexer": "ipython3",
   "version": "3.13.2"
  }
 },
 "nbformat": 4,
 "nbformat_minor": 2
}
