{
 "cells": [
  {
   "cell_type": "code",
   "execution_count": null,
   "metadata": {},
   "outputs": [],
   "source": [
    "##\n",
    "#Load Packages\n",
    "import numpy as np\n",
    "import matplotlib.pyplot as plt\n",
    "from numba import jit\n",
    "import sys\n",
    "from scipy.optimize import curve_fit"
   ]
  },
  {
   "cell_type": "code",
   "execution_count": null,
   "metadata": {},
   "outputs": [],
   "source": [
    "##\n",
    "#Define Path to Code Database\n",
    "DirPath = '/Your/Path/To/Code/'\n",
    "\n",
    "##\n",
    "#Define Output Path\n",
    "OutputPath = '/Your/Path/To/Output/'"
   ]
  },
  {
   "cell_type": "code",
   "execution_count": null,
   "metadata": {},
   "outputs": [],
   "source": [
    "##\n",
    "#Load Functions\n",
    "sys.path.append(''.join([DirPath,'bin']))\n",
    "from EPGMotion import *\n",
    "from MotionSimulation import *\n",
    "from EPGForwardMotionModel import *\n",
    "from Jacobian_MotionCorrection import *\n",
    "from ParameterOptionsSimulation import *"
   ]
  },
  {
   "cell_type": "code",
   "execution_count": null,
   "metadata": {},
   "outputs": [],
   "source": [
    "##\n",
    "#Read Parameters\n",
    "opt = ParameterOptionsSimulation()               "
   ]
  },
  {
   "cell_type": "code",
   "execution_count": null,
   "metadata": {},
   "outputs": [],
   "source": [
    "##\n",
    "#Conventional EPG simulates a maximum k-value pathway equal to the number of TRs. This piece of code identifies where increasing the k-value leads to no meaningful change in the signal, with subsequent thresholding to accelerate modelling\n",
    "opt[\"kOrder\"] = kOrder(opt.copy())"
   ]
  },
  {
   "cell_type": "code",
   "execution_count": null,
   "metadata": {},
   "outputs": [],
   "source": [
    "##\n",
    "#Define Motion Operators - Translation Velocity (mm/s), Rotation Velocity (deg/s), and Maximum Cardiac Velocity (mm/s) along x,y & z-axes\n",
    "Trans= np.array([0, 0, 0])\n",
    "Rot = np.array([0, 0, 0])\n",
    "Card = np.array([0, 0, 0])\n",
    "\n",
    "##\n",
    "#Define Voxel Dimensions \n",
    "VoxDims = np.array([1,1,1])"
   ]
  },
  {
   "cell_type": "code",
   "execution_count": null,
   "metadata": {},
   "outputs": [],
   "source": [
    "##\n",
    "#Estimate different V(t) operators for different maximum amplitudes of the cardiac pulsatility profile\n",
    "\n",
    "##\n",
    "#Define Maximum velocity\n",
    "MaxVel =np.linspace(1.5, 1.5, num=1) \n",
    "\n",
    "##\n",
    "#Initialise Array\n",
    "V = np.zeros((int(opt['nTR'][0]),MaxVel.shape[0]))\n",
    "Signal = np.zeros((int(opt['nTR'][0]),MaxVel.shape[0]),dtype = 'c8')\n",
    "\n",
    "##\n",
    "#Peform Forward Simulations\n",
    "for idx, k in np.ndenumerate(MaxVel):\n",
    "    Card = np.array([0, 0, k])\n",
    "    V[:,idx] = np.squeeze(MotionOperator(opt.copy(),Trans,Rot,Card,opt['Mask'][:,np.newaxis,np.newaxis],VoxDims))[:,np.newaxis]\n",
    "    Signal[:,idx]=EPGMotion(opt, np.squeeze(V[:,idx]))[:,np.newaxis]"
   ]
  },
  {
   "cell_type": "code",
   "execution_count": null,
   "metadata": {},
   "outputs": [],
   "source": [
    "##\n",
    "#Add Noise\n",
    "\n",
    "##\n",
    "#Define SNR Levels\n",
    "SNR = [np.inf]\n",
    "\n",
    "##\n",
    "#Estimate Noise Standard Deviation\n",
    "NoiseSD = np.zeros((Signal.shape[1],len(SNR)))\n",
    "for k in range(NoiseSD.shape[0]):\n",
    "    for l in range(NoiseSD.shape[1]):\n",
    "        NoiseSD[k,l] = np.mean(abs(Signal[int(opt[\"nDummy\"][0]):,k]))/SNR[l]\n",
    "\n",
    "##\n",
    "#Number of repeats\n",
    "nRepeats = 1\n",
    "\n",
    "##\n",
    "#Initialise SignalNoise repeats\n",
    "SignalNoise = np.zeros((*Signal.shape,len(SNR),nRepeats),dtype = 'c8')\n",
    "\n",
    "##\n",
    "#Add Noise\n",
    "for k in range(SignalNoise.shape[1]):\n",
    "    for l in range(SignalNoise.shape[2]):\n",
    "        for m in range(SignalNoise.shape[3]):\n",
    "            SignalNoise[:,k,l,m] = (np.real(Signal[:,k]) + np.random.normal(0, NoiseSD[k,l], Signal.shape[0])) + 1j*(np.imag(Signal[:,k]) + np.random.normal(0, NoiseSD[k,l], Signal.shape[0]))"
   ]
  },
  {
   "cell_type": "code",
   "execution_count": null,
   "metadata": {},
   "outputs": [],
   "source": [
    "##\n",
    "#Define lower and upper parameter bounds (fix S0 equal to 1, define MotionParameters between -1.5 and 1.5 mm/s))\n",
    "low = [1E-6, 1, -20*np.pi, *np.ones((int(opt[\"nTR\"][0])-int(opt[\"SteadyStateTR\"][0])))*-5]\n",
    "high = [10E-3, 1+ + np.finfo('f8').eps, 20*np.pi, *np.ones((int(opt[\"nTR\"][0])-int(opt[\"SteadyStateTR\"][0])))*5]"
   ]
  },
  {
   "cell_type": "code",
   "execution_count": null,
   "metadata": {},
   "outputs": [],
   "source": [
    "##\n",
    "#Fitting without Motion Information\n",
    "\n",
    "##\n",
    "#Initialise Fitting Parameters (D, S0, Phi)\n",
    "par_init = [0.5E-4, 1, np.pi/2]\n",
    "\n",
    "##\n",
    "#Initialise Array\n",
    "poptnoMotion = np.zeros((3,*SignalNoise.shape[1:]))\n",
    "\n",
    "##\n",
    "#Perform Fitting\n",
    "for k in range(SignalNoise.shape[1]):\n",
    "    for l in range(SignalNoise.shape[2]):\n",
    "        for m in range(SignalNoise.shape[3]):\n",
    "            #Input Data (1D array: Real & Imaginary Components - Fitting to After Dummy Region)\n",
    "            Data = np.concatenate((np.real(SignalNoise[int(opt[\"nDummy\"][0]):,k,l,m]).reshape(SignalNoise[int(opt[\"nDummy\"][0]):,k,l,m].shape[0]),np.imag(SignalNoise[int(opt[\"nDummy\"][0]):,k,l,m]).reshape(SignalNoise[int(opt[\"nDummy\"][0]):,k,l,m].shape[0])))\n",
    "            #Perform Fitting\n",
    "            poptnoMotion[:,k,l,m], pcov, infodict, mesg, ier  = curve_fit(lambda x, *theta: EPGForwardModelFitting(x, theta, opt.copy()), 1, Data, p0=par_init, method='trf',absolute_sigma=False,bounds=(low[0:3],high[0:3]),verbose=1,jac=lambda x, *theta: EPGForwardModelFittingJacobian(x,theta,opt.copy()), x_scale='jac',full_output=True,tr_solver='exact',max_nfev=1E5,ftol=1e-5, xtol=1e-5, gtol=1e-5)\n"
   ]
  },
  {
   "cell_type": "code",
   "execution_count": null,
   "metadata": {},
   "outputs": [],
   "source": [
    "##\n",
    "#Fitting with Motion Information\n",
    "\n",
    "##\n",
    "#Initialise fitting parameters (D, S0, Phi, MotionVector)\n",
    "par_init = [0.5E-4, 1, np.pi/2, *np.zeros(int(opt[\"nTR\"][0])-int(opt[\"SteadyStateTR\"][0]))]\n",
    "\n",
    "##\n",
    "#Initialise Array\n",
    "poptMotion = np.zeros((len(low),*SignalNoise.shape[1:]))\n",
    "\n",
    "##\n",
    "#Perform Fitting\n",
    "for k in range(SignalNoise.shape[1]):\n",
    "    for l in range(SignalNoise.shape[2]):\n",
    "        for m in range(SignalNoise.shape[3]):\n",
    "            #Input Data (1D array: Real & Imaginary Components - Fitting to After Dummy Region)\n",
    "            Data = np.concatenate((np.real(SignalNoise[int(opt[\"nDummy\"][0]):,k,l,m]).reshape(SignalNoise[int(opt[\"nDummy\"][0]):,k,l,m].shape[0]),np.imag(SignalNoise[int(opt[\"nDummy\"][0]):,k,l,m]).reshape(SignalNoise[int(opt[\"nDummy\"][0]):,k,l,m].shape[0])))\n",
    "            #Perform Fitting\n",
    "            poptMotion[:,k,l,m], pcov, infodict, mesg, ier  = curve_fit(lambda x, *theta: EPGForwardMotionModelFitting(x, theta, opt.copy()), 1, Data, p0=par_init, method='trf',absolute_sigma=False,bounds=(low,high),verbose=1,jac=lambda x, *theta: EPGForwardMotionModelFittingJacobian(x,theta,opt.copy()), x_scale='jac',full_output=True,tr_solver='exact',max_nfev=1E5,ftol=1e-5, xtol=1e-5, gtol=1e-5)"
   ]
  },
  {
   "cell_type": "code",
   "execution_count": null,
   "metadata": {},
   "outputs": [],
   "source": [
    "##\n",
    "#Reconstruct Signal & Motion Profile\n",
    "\n",
    "#Create Reconstructed Motion Array\n",
    "VRecon = np.zeros_like(SignalNoise, dtype = 'f8')\n",
    "VRecon[-(int(opt[\"nTR\"][0])-int(opt[\"SteadyStateTR\"][0])):,...] = poptMotion[3:,...]\n",
    "\n",
    "#Initialise Signal Array\n",
    "SignalRecon = np.zeros_like(SignalNoise, dtype = 'c8')\n",
    "\n",
    "##\n",
    "#Reconstruct Signal\n",
    "for k in range(SignalNoise.shape[1]):\n",
    "    for l in range(SignalNoise.shape[2]):\n",
    "        for m in range(SignalNoise.shape[3]):\n",
    "            ##\n",
    "            #Declare outputs from fitting to the options file \n",
    "            optRecon = opt.copy()\n",
    "            optRecon['D'] = np.asarray([poptMotion[0,k,l,m]], dtype='f8')   \n",
    "            optRecon['phi'] = np.asarray([poptMotion[2,k,l,m]], dtype='f8') \n",
    "\n",
    "            ##\n",
    "            #Reconstruct signal\n",
    "            SignalRecon[:,k,l,m] = EPGMotion(optRecon.copy(), VRecon[:,k,l,m])\n"
   ]
  },
  {
   "cell_type": "code",
   "execution_count": null,
   "metadata": {},
   "outputs": [],
   "source": [
    "##\n",
    "#Get Mean & Standard Deviation (Original Signal)\n",
    "SignalNoiseMean = np.squeeze(np.mean(SignalNoise,axis=-1))\n",
    "SignalNoiseSD = np.squeeze(np.std(SignalNoise,axis=-1))\n",
    "\n",
    "##\n",
    "#Get Mean & Standard Feviation (Reconstructed Signal)\n",
    "SignalReconMean = np.squeeze(np.mean(SignalRecon,axis=-1))\n",
    "SignalReconSD = np.squeeze(np.std(SignalRecon,axis=-1))\n",
    "\n",
    "##\n",
    "#Get Mean & Standard Feviation (Motion Profile)\n",
    "VReconMean = np.squeeze(np.mean(VRecon,axis=-1))\n",
    "VReconSD = np.squeeze(np.std(VRecon,axis=-1))"
   ]
  },
  {
   "cell_type": "code",
   "execution_count": null,
   "metadata": {},
   "outputs": [],
   "source": [
    "\n",
    "##\n",
    "#Plot Figure\n",
    "fig, axs = plt.subplots(3, 1)\n",
    "fig.set_size_inches(12,12)\n",
    "\n",
    "##\n",
    "#Define x-axis\n",
    "Time = range(Signal.shape[0])*opt[\"TR\"]/1E3\n",
    "\n",
    "##\n",
    "#Plot Velocity Profile\n",
    "axs[0].plot(Time,V,'#1f77b4',linewidth=2,label = r'$V(t) (V_{max} =$ 1.50 mm/s)')\n",
    "axs[0].plot(Time,VReconMean,'#ff7f0e',linewidth=2,linestyle='--',label = 'Estimated V(t)')\n",
    "axs[0].axvspan(Time[int(opt[\"SteadyStateTR\"][0])],Time[int(opt[\"nDummy\"][0])], alpha=0.1,color='#d62728',label = 'Dummy Measurements')\n",
    "axs[0].axvspan(Time[int(opt[\"nDummy\"][0])],Time[-1],alpha=0.1,color='#2ca02c',label = 'Measured Data')\n",
    "axs[0].set_ylim([-5,5])\n",
    "axs[0].legend(fontsize=10,loc='lower left')\n",
    "axs[0].set_ylabel('Velocity (mm/s)',fontsize=12)\n",
    "\n",
    "##\n",
    "#Plot Signal Magnitude\n",
    "axs[1].plot(Time,np.abs(SignalNoiseMean),'#1f77b4',linewidth=2,label = 'Simulated Magnitude')\n",
    "axs[1].plot(Time,np.abs(SignalReconMean),'#ff7f0e',linewidth=2,linestyle='--',label = 'Reconstructed Magnitude')\n",
    "axs[1].axvspan(Time[int(opt[\"SteadyStateTR\"][0])],Time[int(opt[\"nDummy\"][0])], alpha=0.1,color='#d62728')\n",
    "axs[1].axvspan(Time[int(opt[\"nDummy\"][0])],Time[-1],alpha=0.1,color='#2ca02c')\n",
    "axs[1].set_ylim([0,0.05])\n",
    "axs[1].legend(fontsize=10,loc='upper right')\n",
    "axs[1].set_ylabel('Amplitude (a.u.)',fontsize=12)\n",
    "\n",
    "##\n",
    "#Plot Signal Phase\n",
    "axs[2].plot(Time,np.angle(SignalNoiseMean),'#1f77b4',linewidth=2,label = 'Simulated Phase')\n",
    "axs[2].plot(Time,np.angle(SignalReconMean),'#ff7f0e',linewidth=2,linestyle='--',label = 'Reconstructed Phase')\n",
    "axs[2].axvspan(Time[int(opt[\"SteadyStateTR\"][0])],Time[int(opt[\"nDummy\"][0])], alpha=0.1,color='#d62728')\n",
    "axs[2].axvspan(Time[int(opt[\"nDummy\"][0])],Time[-1],alpha=0.1,color='#2ca02c')\n",
    "axs[2].set_ylim([-np.pi,np.pi])\n",
    "axs[2].legend(fontsize=10,loc='upper right')\n",
    "axs[2].set_ylabel('Angle (rad.)',fontsize=12)\n",
    "#Plot Velocity Profile\n",
    "for k in range(3):\n",
    "    axs[k].set_xlim([0,Time[-1]])\n",
    "    axs[k].set_xlabel('Time (s)',fontsize=12)"
   ]
  },
  {
   "cell_type": "code",
   "execution_count": null,
   "metadata": {},
   "outputs": [],
   "source": [
    "#Save Figure\n",
    "fig.savefig(''.join([OutputPath,'FigureS9.png']),dpi=300,format='png',bbox_inches='tight')"
   ]
  }
 ],
 "metadata": {
  "kernelspec": {
   "display_name": "testenv4",
   "language": "python",
   "name": "python3"
  },
  "language_info": {
   "codemirror_mode": {
    "name": "ipython",
    "version": 3
   },
   "file_extension": ".py",
   "mimetype": "text/x-python",
   "name": "python",
   "nbconvert_exporter": "python",
   "pygments_lexer": "ipython3",
   "version": "3.13.2"
  }
 },
 "nbformat": 4,
 "nbformat_minor": 2
}
