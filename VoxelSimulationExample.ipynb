{
 "cells": [
  {
   "cell_type": "code",
   "execution_count": 29,
   "metadata": {},
   "outputs": [],
   "source": [
    "##\n",
    "#Load Packages\n",
    "import numpy as np\n",
    "import matplotlib.pyplot as plt\n",
    "from numba import jit\n",
    "import sys\n",
    "from scipy.optimize import curve_fit"
   ]
  },
  {
   "cell_type": "code",
   "execution_count": 30,
   "metadata": {},
   "outputs": [],
   "source": [
    "##\n",
    "#Define Path to Code database\n",
    "DirPath = '/Your/Path/To/Code/'"
   ]
  },
  {
   "cell_type": "code",
   "execution_count": 31,
   "metadata": {},
   "outputs": [],
   "source": [
    "##\n",
    "#Load functions\n",
    "sys.path.append(''.join([DirPath,'bin']))\n",
    "from EPGMotion import *\n",
    "from MotionSimulation import *\n",
    "from EPGForwardMotionModel import *\n",
    "from Jacobian_MotionCorrection import *\n",
    "from ParameterOptionsSimulation import *"
   ]
  },
  {
   "cell_type": "code",
   "execution_count": 32,
   "metadata": {},
   "outputs": [],
   "source": [
    "##\n",
    "#Read Parameters\n",
    "opt=ParameterOptionsSimulation()"
   ]
  },
  {
   "cell_type": "code",
   "execution_count": 33,
   "metadata": {},
   "outputs": [],
   "source": [
    "##\n",
    "#Conventional EPG simulates a maximum k-value pathway equal to the number of TRs. This piece of code identifies where increasing the k-value leads to no meaningful change in the signal, with subsequent thresholding to accelerate modelling\n",
    "opt[\"kOrder\"] = kOrder(opt.copy())"
   ]
  },
  {
   "cell_type": "code",
   "execution_count": 34,
   "metadata": {},
   "outputs": [],
   "source": [
    "##\n",
    "#Define Motion Operators - Translation Velocity (mm/s), Rotation Velocity (deg/s), and Maximum Cardiac Velocity (mm/s) along x,y & z-axes\n",
    "Trans= np.array([0, 0, 0])\n",
    "Rot = np.array([0, 0, 0])\n",
    "Card = np.array([0, 0, 0.4])\n",
    "\n",
    "##\n",
    "#Define Voxel Dimensions \n",
    "VoxDims = np.array([1,1,1])"
   ]
  },
  {
   "cell_type": "code",
   "execution_count": 35,
   "metadata": {},
   "outputs": [],
   "source": [
    "##\n",
    "#Estimate T(t) operator\n",
    "T = np.squeeze(MotionOperator(opt.copy(),Trans,Rot,Card,opt['Mask'][:,np.newaxis,np.newaxis],VoxDims))[:,np.newaxis]"
   ]
  },
  {
   "cell_type": "code",
   "execution_count": 36,
   "metadata": {},
   "outputs": [],
   "source": [
    "##\n",
    "#Estimate Signal\n",
    "Signal=EPGMotion(opt, np.squeeze(T))"
   ]
  },
  {
   "cell_type": "code",
   "execution_count": 37,
   "metadata": {},
   "outputs": [],
   "source": [
    "##\n",
    "#Add Noise\n",
    "\n",
    "##\n",
    "#Define SNR Level\n",
    "SNR = [20]\n",
    "\n",
    "##\n",
    "#Estimate Noise Standard Deviation\n",
    "NoiseSD = np.mean(abs(Signal[int(opt[\"nDummy\"]):]))/SNR\n",
    "\n",
    "##\n",
    "#Initialise SignalNoise repeats\n",
    "SignalNoise = np.zeros_like(Signal)\n",
    "\n",
    "##\n",
    "#Add Noise\n",
    "SignalNoise = (np.real(Signal) + np.random.normal(0, NoiseSD, Signal.shape[0])) + 1j*(np.imag(Signal) + np.random.normal(0, NoiseSD, Signal.shape[0]))"
   ]
  },
  {
   "cell_type": "code",
   "execution_count": 38,
   "metadata": {},
   "outputs": [],
   "source": [
    "##\n",
    "#Define lower and upper parameter bounds (fix S0 equal to 1, define MotionParameters between -5 and 5 mm/s))\n",
    "low = [1E-6, 1, -20*np.pi, *np.ones((int(opt[\"nTR\"])-int(opt[\"SteadyStateTR\"])))*-5]\n",
    "high = [10E-3, 1+ + np.finfo('f8').eps, 20*np.pi, *np.ones((int(opt[\"nTR\"])-int(opt[\"SteadyStateTR\"])))*5]"
   ]
  },
  {
   "cell_type": "code",
   "execution_count": 39,
   "metadata": {},
   "outputs": [
    {
     "name": "stdout",
     "output_type": "stream",
     "text": [
      "`gtol` termination condition is satisfied.\n",
      "Function evaluations 8, initial cost 1.6897e-01, final cost 5.6156e-03, first-order optimality 4.72e-05.\n"
     ]
    },
    {
     "name": "stderr",
     "output_type": "stream",
     "text": [
      "/Users/btendler/miniconda3/envs/MotionCorrection_DWSSFP/lib/python3.8/site-packages/scipy/optimize/_lsq/trf.py:234: RuntimeWarning: divide by zero encountered in divide\n",
      "  Delta = norm(x0 * scale_inv / v**0.5)\n",
      "/Users/btendler/miniconda3/envs/MotionCorrection_DWSSFP/lib/python3.8/site-packages/scipy/optimize/_lsq/trf.py:363: RuntimeWarning: invalid value encountered in scalar divide\n",
      "  alpha *= Delta / Delta_new\n"
     ]
    }
   ],
   "source": [
    "##\n",
    "#Fitting without Motion Information\n",
    "\n",
    "##\n",
    "#Initialise fitting parameters (D, S0, Phi)\n",
    "par_init = [0.5E-4, 1, np.pi/2]\n",
    "\n",
    "##\n",
    "#Initialise Array\n",
    "poptnoMotion = np.zeros((3,*SignalNoise.shape[1:]))\n",
    "\n",
    "##\n",
    "#Define Input Data (1D array: Real & Imaginary Components - Fitting to After Dummy Region)\n",
    "Data = np.concatenate((np.real(SignalNoise[int(opt[\"nDummy\"]):]).reshape(SignalNoise[int(opt[\"nDummy\"]):].shape[0]),np.imag(SignalNoise[int(opt[\"nDummy\"]):]).reshape(SignalNoise[int(opt[\"nDummy\"]):].shape[0])))\n",
    "\n",
    "##\n",
    "#Perform Fitting\n",
    "poptnoMotion, pcov, infodict, mesg, ier  = curve_fit(lambda x, *theta: EPGForwardModelFitting(x, theta, opt.copy()), 1, Data, p0=par_init, method='trf',absolute_sigma=False,bounds=(low[0:3],high[0:3]),verbose=1,jac=lambda x, *theta: EPGForwardModelFittingJacobian(x,theta,opt.copy()), x_scale='jac',full_output=True,tr_solver='exact',max_nfev=1E5,ftol=1e-3, xtol=1e-3, gtol=1e-3)\n"
   ]
  },
  {
   "cell_type": "code",
   "execution_count": 40,
   "metadata": {},
   "outputs": [
    {
     "name": "stderr",
     "output_type": "stream",
     "text": [
      "/Users/btendler/miniconda3/envs/MotionCorrection_DWSSFP/lib/python3.8/site-packages/scipy/optimize/_lsq/trf.py:363: RuntimeWarning: invalid value encountered in scalar multiply\n",
      "  alpha *= Delta / Delta_new\n",
      "/Users/btendler/miniconda3/envs/MotionCorrection_DWSSFP/lib/python3.8/site-packages/scipy/optimize/_lsq/common.py:398: RuntimeWarning: invalid value encountered in cast\n",
      "  return min_step, np.equal(steps, min_step) * np.sign(s).astype(int)\n"
     ]
    },
    {
     "name": "stdout",
     "output_type": "stream",
     "text": [
      "`xtol` termination condition is satisfied.\n",
      "Function evaluations 507, initial cost 1.6897e-01, final cost 6.4864e-05, first-order optimality 3.64e-03.\n"
     ]
    }
   ],
   "source": [
    "##\n",
    "#Fitting with Motion Information\n",
    "\n",
    "##\n",
    "#Initialise fitting parameters (D, S0, Phi, MotionVector)\n",
    "par_init = [0.5E-4, 1, np.pi/2, *np.zeros(int(opt[\"nTR\"])-int(opt[\"SteadyStateTR\"]))]\n",
    "\n",
    "##\n",
    "#Initialise Array\n",
    "poptMotion = np.zeros((len(low),*SignalNoise.shape[1:]))\n",
    "\n",
    "##\n",
    "#Define Input Data (1D array: Real & Imaginary Components - Fitting to After Dummy Region)\n",
    "Data = np.concatenate((np.real(SignalNoise[int(opt[\"nDummy\"]):]).reshape(SignalNoise[int(opt[\"nDummy\"]):].shape[0]),np.imag(SignalNoise[int(opt[\"nDummy\"]):]).reshape(SignalNoise[int(opt[\"nDummy\"]):].shape[0])))\n",
    "\n",
    "##\n",
    "#Perform Fitting\n",
    "poptMotion, pcov, infodict, mesg, ier  = curve_fit(lambda x, *theta: EPGForwardMotionModelFitting(x, theta, opt.copy()), 1, Data, p0=par_init, method='trf',absolute_sigma=False,bounds=(low,high),verbose=1,jac=lambda x, *theta: EPGForwardMotionModelFittingJacobian(x,theta,opt.copy()), x_scale='jac',full_output=True,tr_solver='exact',max_nfev=1E5,ftol=1e-3, xtol=1e-3, gtol=1e-3)"
   ]
  },
  {
   "cell_type": "code",
   "execution_count": 42,
   "metadata": {},
   "outputs": [],
   "source": [
    "##\n",
    "#Reconstruct Signal & Motion Profile\n",
    "\n",
    "#Create Reconstructed Motion Array\n",
    "TRecon = np.zeros_like(SignalNoise, dtype = 'f8')\n",
    "TRecon[-(int(opt[\"nTR\"])-int(opt[\"SteadyStateTR\"])):] = poptMotion[3:]\n",
    "\n",
    "#Initialise Signal Array\n",
    "SignalRecon = np.zeros_like(SignalNoise, dtype = 'c8')\n",
    "\n",
    "##\n",
    "#Define Parameters\n",
    "optRecon = opt.copy()\n",
    "optRecon['D'] = np.asarray([poptMotion[0]], dtype='f8')   \n",
    "optRecon['phi'] = np.asarray([poptMotion[2]], dtype='f8') \n",
    "\n",
    "##\n",
    "#Reconstruct signal\n",
    "SignalRecon = EPGMotion(optRecon.copy(), TRecon)\n"
   ]
  },
  {
   "cell_type": "code",
   "execution_count": 55,
   "metadata": {},
   "outputs": [
    {
     "name": "stdout",
     "output_type": "stream",
     "text": [
      "Simulated diffusion coefficient D = 1.0 x $10^{3}$ mm^2/s\n",
      "Without Motion correction, estimated diffusion coefficient D = 1.9795001499868232 x $10^3 mm^2/s$\n",
      "With Motion correction, estimated diffusion coefficient D = 1.0687296690745014 x $10^3 mm^2/s$\n"
     ]
    }
   ],
   "source": [
    "##\n",
    "#Print statement on diffusion coefficients\n",
    "print(''.join(['Simulated diffusion coefficient D = ',str(opt['D'][0]*10**3), r' x $10^{3}$ mm^2/s']))\n",
    "print(''.join(['Without Motion correction, estimated diffusion coefficient D = ',str(poptnoMotion[0]*10**3),r' x $10^3 mm^2/s$']))\n",
    "print(''.join(['With Motion correction, estimated diffusion coefficient D = ',str(poptMotion[0]*10**3),r' x $10^3 mm^2/s$']))"
   ]
  },
  {
   "cell_type": "code",
   "execution_count": 170,
   "metadata": {},
   "outputs": [
    {
     "data": {
      "text/plain": [
       "<matplotlib.patches.Rectangle at 0x11ecfefa0>"
      ]
     },
     "execution_count": 170,
     "metadata": {},
     "output_type": "execute_result"
    },
    {
     "data": {
      "image/png": "[encoded data removed]",
      "text/plain": [
       "<Figure size 800x800 with 3 Axes>"
      ]
     },
     "metadata": {},
     "output_type": "display_data"
    }
   ],
   "source": [
    "##\n",
    "#Plot \n",
    "fig, axs = plt.subplots(3, 1)\n",
    "fig.set_size_inches(8,12)\n",
    "#Define x-axis\n",
    "Time = range(Signal.shape[0])*opt[\"TR\"]/1E3\n",
    "#Plot Magnitude data\n",
    "axs[0].plot(Time, np.abs(SignalNoise),'#1f77b4',linewidth=2,label = 'Data (Monte Carlo)')\n",
    "axs[0].plot(Time,np.abs(SignalRecon),'#ff7f0e',linewidth=2,linestyle='--',label = 'Fit (EPG + Motion)' )\n",
    "axs[0].axvspan(Time[int(opt[\"SteadyStateTR\"])],Time[int(opt[\"nDummy\"])], alpha=0.1,color='#d62728',label = 'Dummy Measurements')\n",
    "axs[0].axvspan(Time[int(opt[\"nDummy\"])],Time[-1],alpha=0.1,color='#2ca02c',label = 'Measured Data')\n",
    "#Plot Phase data (multiply by -i to characterise the motion-free phase as 0)\n",
    "axs[1].plot(Time, np.angle(SignalNoise*-1),'#1f77b4',linewidth=2)\n",
    "axs[1].plot(Time,np.angle(SignalRecon*-1),'#ff7f0e',linewidth=2,linestyle='--')\n",
    "axs[1].axvspan(Time[int(opt[\"SteadyStateTR\"])],Time[int(opt[\"nDummy\"])], alpha=0.1,color='#d62728')\n",
    "axs[1].axvspan(Time[int(opt[\"nDummy\"])],Time[-1],alpha=0.1,color='#2ca02c')\n",
    "#Plot Time-Series Data\n",
    "axs[2].plot(Time,T,'#1f77b4',linewidth=2)\n",
    "axs[2].plot(Time,TRecon,'#ff7f0e',linewidth=2,linestyle='--')\n",
    "axs[2].axvspan(Time[int(opt[\"SteadyStateTR\"])],Time[int(opt[\"nDummy\"])], alpha=0.1,color='#d62728')\n",
    "axs[2].axvspan(Time[int(opt[\"nDummy\"])],Time[-1],alpha=0.1,color='#2ca02c')\n",
    "#Add labels etc\n",
    "fig.subplots_adjust(hspace=0.4)\n",
    "axs[0].text(-0.1, 1.05, '(a)', transform=axs[0].transAxes, size=20)\n",
    "axs[2].text(-0.1, 1.05, '(b)', transform=axs[2].transAxes, size=20)\n",
    "axs[0].set_xlim([0,Time[-1]])\n",
    "axs[1].set_xlim([0,Time[-1]])\n",
    "axs[2].set_xlim([0,Time[-1]])\n",
    "axs[1].set_ylim([-np.pi,np.pi])\n",
    "axs[0].set_ylabel('Amplitude (a.u.)',fontsize=12)\n",
    "axs[1].set_ylabel('Angle (rad.)',fontsize=12)\n",
    "axs[2].set_ylabel('Velocity (mm/s)',fontsize=12)\n",
    "axs[0].set_xlabel('Time (s)',fontsize=12)\n",
    "axs[1].set_xlabel('Time (s)',fontsize=12)\n",
    "axs[2].set_xlabel('Time (s)',fontsize=12)\n",
    "axs[0].set_title('Magnitude',fontsize=16)\n",
    "axs[1].set_title('Phase',fontsize=16)\n",
    "axs[2].set_title(r'$T(t)$',fontsize=16)\n",
    "axs[1].set_yticks([-np.pi,0, np.pi],[r'-$\\pi$',0, r'$\\pi$'])\n",
    "axs[0].legend(fontsize=10)"
   ]
  }
 ],
 "metadata": {
  "kernelspec": {
   "display_name": "MotionCorrection_DWSSFP",
   "language": "python",
   "name": "python3"
  },
  "language_info": {
   "codemirror_mode": {
    "name": "ipython",
    "version": 3
   },
   "file_extension": ".py",
   "mimetype": "text/x-python",
   "name": "python",
   "nbconvert_exporter": "python",
   "pygments_lexer": "ipython3",
   "version": "3.8.12"
  }
 },
 "nbformat": 4,
 "nbformat_minor": 2
}
